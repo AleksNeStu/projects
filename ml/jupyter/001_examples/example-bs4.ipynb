{
 "cells": [
  {
   "cell_type": "markdown",
   "metadata": {},
   "source": [
    "Scraping Webpages with BeautifulSoup\n",
    "===================================="
   ]
  },
  {
   "cell_type": "markdown",
   "metadata": {},
   "source": [
    "Lets try to get a list of all the years of all of Amitabh Bachchan movies!  If you don't know, he's kind of the Sean Connery of India.\n",
    "\n",
    "BeautifulSoup lets you download webpages and search them for specific HTML entities. You can use this ability to scrape data out of the webpage, or a series of webpages.  It is fast and works well.  Their [documentation](http://www.crummy.com/software/BeautifulSoup/bs4/doc/) is a handy reference."
   ]
  },
  {
   "cell_type": "markdown",
   "metadata": {},
   "source": [
    "Getting the Content\n",
    "------------------\n",
    "First you gotta grab the content (I like to use [requests](http://docs.python-requests.org/en/latest/) for this)"
   ]
  },
  {
   "cell_type": "code",
   "execution_count": 1,
   "outputs": [],
   "source": [
    "import requests\n",
    "headers = {\n",
    "    'User-Agent': 'Mozilla/5.0 (Windows NT 10.0; Win64; x64) AppleWebKit/537.36 (KHTML, like Gecko) Chrome/91.0.4472.124 Safari/537.36'\n",
    "}\n",
    "r = requests.get(url='http://www.imdb.com/name/nm0000821', headers=headers) # lets look at Amitabh Bachchan's list of movies"
   ],
   "metadata": {
    "collapsed": false,
    "ExecuteTime": {
     "end_time": "2023-11-24T20:40:06.270586198Z",
     "start_time": "2023-11-24T20:40:00.868251569Z"
    }
   }
  },
  {
   "cell_type": "markdown",
   "metadata": {},
   "source": [
    "How you can make your \"beautiful soup\"! This turns the HTML into a DOM tree that you can navigate with code."
   ]
  },
  {
   "cell_type": "code",
   "execution_count": 2,
   "metadata": {
    "collapsed": false,
    "ExecuteTime": {
     "end_time": "2023-11-24T20:40:09.341891899Z",
     "start_time": "2023-11-24T20:40:07.260172957Z"
    }
   },
   "outputs": [],
   "source": [
    "from bs4 import BeautifulSoup\n",
    "webpage = BeautifulSoup(r.text, \"html.parser\")"
   ]
  },
  {
   "cell_type": "markdown",
   "metadata": {},
   "source": [
    "Scraping the Info You Want\n",
    "------------------------\n",
    "Now there are a few ways to get content out.   For instance, to get the title you could treat it like an object:"
   ]
  },
  {
   "cell_type": "code",
   "execution_count": 3,
   "metadata": {
    "collapsed": false,
    "ExecuteTime": {
     "end_time": "2023-11-24T20:40:13.270245308Z",
     "start_time": "2023-11-24T20:40:13.215095215Z"
    }
   },
   "outputs": [
    {
     "data": {
      "text/plain": "'Amitabh Bachchan - IMDb'"
     },
     "execution_count": 3,
     "metadata": {},
     "output_type": "execute_result"
    }
   ],
   "source": [
    "webpage.title.text"
   ]
  },
  {
   "cell_type": "markdown",
   "metadata": {},
   "source": [
    "Or you can search for specific tags. This would get all the links (as DOM elements):"
   ]
  },
  {
   "cell_type": "code",
   "execution_count": 4,
   "outputs": [
    {
     "data": {
      "text/plain": "288"
     },
     "execution_count": 4,
     "metadata": {},
     "output_type": "execute_result"
    }
   ],
   "source": [
    "len(webpage.find_all('a'))"
   ],
   "metadata": {
    "collapsed": false,
    "ExecuteTime": {
     "end_time": "2023-11-24T20:40:16.997797240Z",
     "start_time": "2023-11-24T20:40:16.939827672Z"
    }
   }
  },
  {
   "cell_type": "markdown",
   "metadata": {},
   "source": [
    "Or you can use good old CSS selectors, to actually find all the years his movies were made in:"
   ]
  },
  {
   "cell_type": "code",
   "execution_count": 5,
   "metadata": {
    "collapsed": false,
    "ExecuteTime": {
     "end_time": "2023-11-24T20:40:33.630761801Z",
     "start_time": "2023-11-24T20:40:24.689027700Z"
    }
   },
   "outputs": [
    {
     "data": {
      "text/plain": "40"
     },
     "execution_count": 5,
     "metadata": {},
     "output_type": "execute_result"
    }
   ],
   "source": [
    "len(webpage.select('.ipc-metadata-list-summary-item__li'))"
   ]
  },
  {
   "cell_type": "markdown",
   "metadata": {},
   "source": [
    "Of course, we really want to turn this into a list of years... not DOM elements\n",
    "TODO:Expand all films"
   ]
  },
  {
   "cell_type": "code",
   "execution_count": 7,
   "metadata": {
    "collapsed": false,
    "ExecuteTime": {
     "end_time": "2023-11-24T20:41:45.424600217Z",
     "start_time": "2023-11-24T20:41:44.672164376Z"
    }
   },
   "outputs": [],
   "source": [
    "raw_year_list = [e.text.strip() for e in webpage.select('.ipc-metadata-list-summary-item__li')]"
   ]
  },
  {
   "cell_type": "markdown",
   "metadata": {},
   "source": [
    "Cleaning and Analyzing the Data\n",
    "-----------------------------\n",
    "So we can check if he made any films in a particular year"
   ]
  },
  {
   "cell_type": "code",
   "execution_count": 8,
   "metadata": {
    "collapsed": false,
    "ExecuteTime": {
     "end_time": "2023-11-24T20:43:23.552962083Z",
     "start_time": "2023-11-24T20:41:50.796687335Z"
    }
   },
   "outputs": [
    {
     "data": {
      "text/plain": "False"
     },
     "execution_count": 8,
     "metadata": {},
     "output_type": "execute_result"
    }
   ],
   "source": [
    "'1972' in raw_year_list"
   ]
  },
  {
   "cell_type": "markdown",
   "metadata": {
    "collapsed": false
   },
   "source": [
    "And we can look for messy data:"
   ]
  },
  {
   "cell_type": "code",
   "execution_count": null,
   "metadata": {
    "ExecuteTime": {
     "end_time": "2023-11-24T00:22:26.340427525Z",
     "start_time": "2023-11-24T00:22:26.312813112Z"
    },
    "collapsed": false
   },
   "outputs": [],
   "source": [
    "[year for year in raw_year_list if not year.isnumeric()]"
   ]
  },
  {
   "cell_type": "markdown",
   "metadata": {},
   "source": [
    "And we can remove these messy entries (even though that isn't the best thing to do):"
   ]
  },
  {
   "cell_type": "code",
   "execution_count": 9,
   "metadata": {
    "collapsed": false,
    "ExecuteTime": {
     "end_time": "2023-11-24T20:43:26.575145263Z",
     "start_time": "2023-11-24T20:43:26.533537551Z"
    }
   },
   "outputs": [
    {
     "data": {
      "text/plain": "'2023,2024,2024,2023,2022,2022,2022,2022,2022,2022,2022,2021,2021,2021,2020,2020,2020,2019,2016,2011,2005,2001,1998,1998,1997,1996,2016'"
     },
     "execution_count": 9,
     "metadata": {},
     "output_type": "execute_result"
    }
   ],
   "source": [
    "year_list = [year for year in raw_year_list if year.isnumeric()]\n",
    "','.join(year_list)"
   ]
  },
  {
   "cell_type": "code",
   "execution_count": 10,
   "metadata": {
    "collapsed": false,
    "ExecuteTime": {
     "end_time": "2023-11-24T20:43:51.952943338Z",
     "start_time": "2023-11-24T20:43:51.911168757Z"
    }
   },
   "outputs": [
    {
     "name": "stdout",
     "output_type": "stream",
     "text": [
      "1996: +\n",
      "1997: +\n",
      "1998: ++\n",
      "2001: +\n",
      "2005: +\n",
      "2011: +\n",
      "2016: ++\n",
      "2019: +\n",
      "2020: +++\n",
      "2021: +++\n",
      "2022: +++++++\n",
      "2023: ++\n",
      "2024: ++\n"
     ]
    }
   ],
   "source": [
    "import collections\n",
    "year_freq = collections.Counter(year_list)\n",
    "for year in sorted(year_freq.keys()):\n",
    "    print(str(year)+': '+('+'*year_freq[year]))"
   ]
  },
  {
   "cell_type": "code",
   "execution_count": null,
   "metadata": {
    "ExecuteTime": {
     "start_time": "2023-11-24T00:22:26.313113580Z"
    },
    "collapsed": true,
    "jupyter": {
     "outputs_hidden": true
    }
   },
   "outputs": [],
   "source": []
  }
 ],
 "metadata": {
  "kernelspec": {
   "display_name": "Python 3 (ipykernel)",
   "language": "python",
   "name": "python3"
  },
  "language_info": {
   "codemirror_mode": {
    "name": "ipython",
    "version": 3
   },
   "file_extension": ".py",
   "mimetype": "text/x-python",
   "name": "python",
   "nbconvert_exporter": "python",
   "pygments_lexer": "ipython3",
   "version": "3.12.0"
  }
 },
 "nbformat": 4,
 "nbformat_minor": 4
}
