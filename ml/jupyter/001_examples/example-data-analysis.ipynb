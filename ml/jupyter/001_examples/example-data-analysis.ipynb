{
 "cells": [
  {
   "cell_type": "markdown",
   "metadata": {},
   "source": [
    "Loading and Analyzing Data\n",
    "=========================="
   ]
  },
  {
   "cell_type": "code",
   "execution_count": 3,
   "metadata": {
    "ExecuteTime": {
     "end_time": "2023-11-24T20:44:35.506742217Z",
     "start_time": "2023-11-24T20:44:35.464719777Z"
    }
   },
   "outputs": [],
   "source": [
    "import pandas as pd  # programmers like shortening names for things, so they usually import pandas as \"pd\"\n",
    "import altair as alt # again with the shortening of names\n",
    "import requests # we use it for downloading the data so we don't have to save it on GitHub (too big!)\n",
    "import zipfile # for de-compressing the files we download from the EPA"
   ]
  },
  {
   "cell_type": "markdown",
   "metadata": {},
   "source": [
    "## Load the air quality data\n",
    "The EPA published PM2.5 daily summary files annually [on their website](https://aqs.epa.gov/aqsweb/airdata/download_files.html#Daily). This data is the \"PM2.5 FRM/FEM Mass (88101)\" dataset.\n",
    "Pandas understands what a CSV file is, so here we can just load them into two `DataFrame`s. A data frame is simply one representation of a table of data. It is the most important form of storage for working with data in pandas."
   ]
  },
  {
   "cell_type": "code",
   "execution_count": 12,
   "metadata": {
    "ExecuteTime": {
     "end_time": "2023-11-24T21:07:07.870015617Z",
     "start_time": "2023-11-24T21:06:06.814119106Z"
    }
   },
   "outputs": [],
   "source": [
    "# Download the data from the EPA website\n",
    "data_file_urls = [\n",
    "    'https://aqs.epa.gov/aqsweb/airdata/daily_88101_2020.zip',\n",
    "    'https://aqs.epa.gov/aqsweb/airdata/daily_88101_2019.zip'\n",
    "]\n",
    "# copied this example from https://stackoverflow.com/questions/16694907/download-large-file-in-python-with-requests\n",
    "for url in data_file_urls:\n",
    "    local_filename = \"./tmp/{}\".format(url.split('/')[-1])\n",
    "    with requests.get(url, stream=True) as r:\n",
    "        r.raise_for_status()\n",
    "        with open(local_filename, 'wb') as f:\n",
    "            for chunk in r.iter_content(chunk_size=8192): \n",
    "                f.write(chunk)\n",
    "# and unzip the files\n",
    "files_to_unzip = [\"./tmp/{}\".format(url.split('/')[-1]) for url in data_file_urls]\n",
    "for f in files_to_unzip:\n",
    "    with zipfile.ZipFile(f,\"r\") as zip_ref:\n",
    "        zip_ref.extractall(\"./tmp\")"
   ]
  },
  {
   "cell_type": "code",
   "execution_count": 13,
   "metadata": {
    "ExecuteTime": {
     "end_time": "2023-11-24T21:07:51.814918679Z",
     "start_time": "2023-11-24T21:07:47.994882662Z"
    }
   },
   "outputs": [
    {
     "name": "stderr",
     "output_type": "stream",
     "text": [
      "/tmp/ipykernel_76771/1818894222.py:1: DtypeWarning: Columns (13) have mixed types. Specify dtype option on import or set low_memory=False.\n",
      "  air_2019_df = pd.read_csv(\"./tmp/daily_88101_2019.csv\")\n",
      "/tmp/ipykernel_76771/1818894222.py:2: DtypeWarning: Columns (13) have mixed types. Specify dtype option on import or set low_memory=False.\n",
      "  air_2020_df = pd.read_csv(\"./tmp/daily_88101_2020.csv\")\n"
     ]
    },
    {
     "data": {
      "text/plain": "   State Code  County Code  Site Num  Parameter Code  POC   Latitude  \\\n0           1            3        10           88101    1  30.497478   \n1           1            3        10           88101    1  30.497478   \n2           1            3        10           88101    1  30.497478   \n3           1            3        10           88101    1  30.497478   \n4           1            3        10           88101    1  30.497478   \n\n   Longitude  Datum            Parameter Name Sample Duration  ...   AQI  \\\n0 -87.880258  NAD83  PM2.5 - Local Conditions         24 HOUR  ...  48.0   \n1 -87.880258  NAD83  PM2.5 - Local Conditions         24 HOUR  ...  13.0   \n2 -87.880258  NAD83  PM2.5 - Local Conditions         24 HOUR  ...  14.0   \n3 -87.880258  NAD83  PM2.5 - Local Conditions         24 HOUR  ...  39.0   \n4 -87.880258  NAD83  PM2.5 - Local Conditions         24 HOUR  ...  29.0   \n\n  Method Code                                        Method Name  \\\n0       145.0  R & P Model 2025 PM-2.5 Sequential Air Sampler...   \n1       145.0  R & P Model 2025 PM-2.5 Sequential Air Sampler...   \n2       145.0  R & P Model 2025 PM-2.5 Sequential Air Sampler...   \n3       145.0  R & P Model 2025 PM-2.5 Sequential Air Sampler...   \n4       145.0  R & P Model 2025 PM-2.5 Sequential Air Sampler...   \n\n     Local Site Name                                            Address  \\\n0  FAIRHOPE, Alabama  FAIRHOPE HIGH SCHOOL, 1 PIRATE DRIVE, FAIRHOPE...   \n1  FAIRHOPE, Alabama  FAIRHOPE HIGH SCHOOL, 1 PIRATE DRIVE, FAIRHOPE...   \n2  FAIRHOPE, Alabama  FAIRHOPE HIGH SCHOOL, 1 PIRATE DRIVE, FAIRHOPE...   \n3  FAIRHOPE, Alabama  FAIRHOPE HIGH SCHOOL, 1 PIRATE DRIVE, FAIRHOPE...   \n4  FAIRHOPE, Alabama  FAIRHOPE HIGH SCHOOL, 1 PIRATE DRIVE, FAIRHOPE...   \n\n   State Name  County Name  City Name                  CBSA Name  \\\n0     Alabama      Baldwin   Fairhope  Daphne-Fairhope-Foley, AL   \n1     Alabama      Baldwin   Fairhope  Daphne-Fairhope-Foley, AL   \n2     Alabama      Baldwin   Fairhope  Daphne-Fairhope-Foley, AL   \n3     Alabama      Baldwin   Fairhope  Daphne-Fairhope-Foley, AL   \n4     Alabama      Baldwin   Fairhope  Daphne-Fairhope-Foley, AL   \n\n   Date of Last Change  \n0           2021-10-30  \n1           2021-10-30  \n2           2021-10-30  \n3           2021-10-30  \n4           2021-10-30  \n\n[5 rows x 29 columns]",
      "text/html": "<div>\n<style scoped>\n    .dataframe tbody tr th:only-of-type {\n        vertical-align: middle;\n    }\n\n    .dataframe tbody tr th {\n        vertical-align: top;\n    }\n\n    .dataframe thead th {\n        text-align: right;\n    }\n</style>\n<table border=\"1\" class=\"dataframe\">\n  <thead>\n    <tr style=\"text-align: right;\">\n      <th></th>\n      <th>State Code</th>\n      <th>County Code</th>\n      <th>Site Num</th>\n      <th>Parameter Code</th>\n      <th>POC</th>\n      <th>Latitude</th>\n      <th>Longitude</th>\n      <th>Datum</th>\n      <th>Parameter Name</th>\n      <th>Sample Duration</th>\n      <th>...</th>\n      <th>AQI</th>\n      <th>Method Code</th>\n      <th>Method Name</th>\n      <th>Local Site Name</th>\n      <th>Address</th>\n      <th>State Name</th>\n      <th>County Name</th>\n      <th>City Name</th>\n      <th>CBSA Name</th>\n      <th>Date of Last Change</th>\n    </tr>\n  </thead>\n  <tbody>\n    <tr>\n      <th>0</th>\n      <td>1</td>\n      <td>3</td>\n      <td>10</td>\n      <td>88101</td>\n      <td>1</td>\n      <td>30.497478</td>\n      <td>-87.880258</td>\n      <td>NAD83</td>\n      <td>PM2.5 - Local Conditions</td>\n      <td>24 HOUR</td>\n      <td>...</td>\n      <td>48.0</td>\n      <td>145.0</td>\n      <td>R &amp; P Model 2025 PM-2.5 Sequential Air Sampler...</td>\n      <td>FAIRHOPE, Alabama</td>\n      <td>FAIRHOPE HIGH SCHOOL, 1 PIRATE DRIVE, FAIRHOPE...</td>\n      <td>Alabama</td>\n      <td>Baldwin</td>\n      <td>Fairhope</td>\n      <td>Daphne-Fairhope-Foley, AL</td>\n      <td>2021-10-30</td>\n    </tr>\n    <tr>\n      <th>1</th>\n      <td>1</td>\n      <td>3</td>\n      <td>10</td>\n      <td>88101</td>\n      <td>1</td>\n      <td>30.497478</td>\n      <td>-87.880258</td>\n      <td>NAD83</td>\n      <td>PM2.5 - Local Conditions</td>\n      <td>24 HOUR</td>\n      <td>...</td>\n      <td>13.0</td>\n      <td>145.0</td>\n      <td>R &amp; P Model 2025 PM-2.5 Sequential Air Sampler...</td>\n      <td>FAIRHOPE, Alabama</td>\n      <td>FAIRHOPE HIGH SCHOOL, 1 PIRATE DRIVE, FAIRHOPE...</td>\n      <td>Alabama</td>\n      <td>Baldwin</td>\n      <td>Fairhope</td>\n      <td>Daphne-Fairhope-Foley, AL</td>\n      <td>2021-10-30</td>\n    </tr>\n    <tr>\n      <th>2</th>\n      <td>1</td>\n      <td>3</td>\n      <td>10</td>\n      <td>88101</td>\n      <td>1</td>\n      <td>30.497478</td>\n      <td>-87.880258</td>\n      <td>NAD83</td>\n      <td>PM2.5 - Local Conditions</td>\n      <td>24 HOUR</td>\n      <td>...</td>\n      <td>14.0</td>\n      <td>145.0</td>\n      <td>R &amp; P Model 2025 PM-2.5 Sequential Air Sampler...</td>\n      <td>FAIRHOPE, Alabama</td>\n      <td>FAIRHOPE HIGH SCHOOL, 1 PIRATE DRIVE, FAIRHOPE...</td>\n      <td>Alabama</td>\n      <td>Baldwin</td>\n      <td>Fairhope</td>\n      <td>Daphne-Fairhope-Foley, AL</td>\n      <td>2021-10-30</td>\n    </tr>\n    <tr>\n      <th>3</th>\n      <td>1</td>\n      <td>3</td>\n      <td>10</td>\n      <td>88101</td>\n      <td>1</td>\n      <td>30.497478</td>\n      <td>-87.880258</td>\n      <td>NAD83</td>\n      <td>PM2.5 - Local Conditions</td>\n      <td>24 HOUR</td>\n      <td>...</td>\n      <td>39.0</td>\n      <td>145.0</td>\n      <td>R &amp; P Model 2025 PM-2.5 Sequential Air Sampler...</td>\n      <td>FAIRHOPE, Alabama</td>\n      <td>FAIRHOPE HIGH SCHOOL, 1 PIRATE DRIVE, FAIRHOPE...</td>\n      <td>Alabama</td>\n      <td>Baldwin</td>\n      <td>Fairhope</td>\n      <td>Daphne-Fairhope-Foley, AL</td>\n      <td>2021-10-30</td>\n    </tr>\n    <tr>\n      <th>4</th>\n      <td>1</td>\n      <td>3</td>\n      <td>10</td>\n      <td>88101</td>\n      <td>1</td>\n      <td>30.497478</td>\n      <td>-87.880258</td>\n      <td>NAD83</td>\n      <td>PM2.5 - Local Conditions</td>\n      <td>24 HOUR</td>\n      <td>...</td>\n      <td>29.0</td>\n      <td>145.0</td>\n      <td>R &amp; P Model 2025 PM-2.5 Sequential Air Sampler...</td>\n      <td>FAIRHOPE, Alabama</td>\n      <td>FAIRHOPE HIGH SCHOOL, 1 PIRATE DRIVE, FAIRHOPE...</td>\n      <td>Alabama</td>\n      <td>Baldwin</td>\n      <td>Fairhope</td>\n      <td>Daphne-Fairhope-Foley, AL</td>\n      <td>2021-10-30</td>\n    </tr>\n  </tbody>\n</table>\n<p>5 rows × 29 columns</p>\n</div>"
     },
     "execution_count": 13,
     "metadata": {},
     "output_type": "execute_result"
    }
   ],
   "source": [
    "air_2019_df = pd.read_csv(\"./tmp/daily_88101_2019.csv\")\n",
    "air_2020_df = pd.read_csv(\"./tmp/daily_88101_2020.csv\")\n",
    "air_2020_df.head() # this helpfully prints out the first few rows with headers to preview the data"
   ]
  },
  {
   "cell_type": "code",
   "execution_count": 16,
   "metadata": {
    "ExecuteTime": {
     "end_time": "2023-11-24T21:11:55.368041906Z",
     "start_time": "2023-11-24T21:11:55.326180393Z"
    }
   },
   "outputs": [
    {
     "data": {
      "text/plain": "'540435 rows for 2019, 555298 rows for 2020'"
     },
     "execution_count": 16,
     "metadata": {},
     "output_type": "execute_result"
    }
   ],
   "source": [
    "\"{} rows for 2019, {} rows for 2020\".format(air_2019_df.shape[0], air_2020_df.shape[0])"
   ]
  },
  {
   "cell_type": "markdown",
   "metadata": {},
   "source": [
    "## Aggregate and average MA data by city\n",
    "Let's compare MA data by city in 2020 and 2019."
   ]
  },
  {
   "cell_type": "code",
   "execution_count": 17,
   "metadata": {
    "ExecuteTime": {
     "end_time": "2023-11-24T21:14:41.170797374Z",
     "start_time": "2023-11-24T21:12:19.461732458Z"
    }
   },
   "outputs": [
    {
     "data": {
      "text/plain": "'11165 reports for MA in 2019, 12464 reports for MA in 2020'"
     },
     "execution_count": 17,
     "metadata": {},
     "output_type": "execute_result"
    }
   ],
   "source": [
    "# Step 1 - filter the data down by state name\n",
    "\n",
    "is_MA_data = air_2020_df['State Name'] == \"Massachusetts\"\n",
    "air_MA_2020_df = air_2020_df[is_MA_data]\n",
    "\n",
    "is_MA_data = air_2019_df['State Name'] == \"Massachusetts\"\n",
    "air_MA_2019_df = air_2019_df[is_MA_data]\n",
    "\n",
    "\"{} reports for MA in 2019, {} reports for MA in 2020\".format(air_MA_2019_df.shape[0], air_MA_2020_df.shape[0])"
   ]
  },
  {
   "cell_type": "code",
   "execution_count": 18,
   "metadata": {
    "ExecuteTime": {
     "end_time": "2023-11-24T21:14:52.970262894Z",
     "start_time": "2023-11-24T21:14:52.847728811Z"
    }
   },
   "outputs": [
    {
     "data": {
      "text/plain": "         City Name   Latitude  Longitude  Arithmetic Mean\n226372  Pittsfield  42.452299 -73.239648              1.0\n226373  Pittsfield  42.452299 -73.239648              9.1\n226374  Pittsfield  42.452299 -73.239648              3.0\n226375  Pittsfield  42.452299 -73.239648              2.5\n226376  Pittsfield  42.452299 -73.239648              7.6\n...            ...        ...        ...              ...\n237532   Worcester  42.263955 -71.794322              9.6\n237533   Worcester  42.263955 -71.794322              5.9\n237534   Worcester  42.263955 -71.794322              9.1\n237535   Worcester  42.263955 -71.794322              4.1\n237536   Worcester  42.263955 -71.794322              5.4\n\n[11165 rows x 4 columns]",
      "text/html": "<div>\n<style scoped>\n    .dataframe tbody tr th:only-of-type {\n        vertical-align: middle;\n    }\n\n    .dataframe tbody tr th {\n        vertical-align: top;\n    }\n\n    .dataframe thead th {\n        text-align: right;\n    }\n</style>\n<table border=\"1\" class=\"dataframe\">\n  <thead>\n    <tr style=\"text-align: right;\">\n      <th></th>\n      <th>City Name</th>\n      <th>Latitude</th>\n      <th>Longitude</th>\n      <th>Arithmetic Mean</th>\n    </tr>\n  </thead>\n  <tbody>\n    <tr>\n      <th>226372</th>\n      <td>Pittsfield</td>\n      <td>42.452299</td>\n      <td>-73.239648</td>\n      <td>1.0</td>\n    </tr>\n    <tr>\n      <th>226373</th>\n      <td>Pittsfield</td>\n      <td>42.452299</td>\n      <td>-73.239648</td>\n      <td>9.1</td>\n    </tr>\n    <tr>\n      <th>226374</th>\n      <td>Pittsfield</td>\n      <td>42.452299</td>\n      <td>-73.239648</td>\n      <td>3.0</td>\n    </tr>\n    <tr>\n      <th>226375</th>\n      <td>Pittsfield</td>\n      <td>42.452299</td>\n      <td>-73.239648</td>\n      <td>2.5</td>\n    </tr>\n    <tr>\n      <th>226376</th>\n      <td>Pittsfield</td>\n      <td>42.452299</td>\n      <td>-73.239648</td>\n      <td>7.6</td>\n    </tr>\n    <tr>\n      <th>...</th>\n      <td>...</td>\n      <td>...</td>\n      <td>...</td>\n      <td>...</td>\n    </tr>\n    <tr>\n      <th>237532</th>\n      <td>Worcester</td>\n      <td>42.263955</td>\n      <td>-71.794322</td>\n      <td>9.6</td>\n    </tr>\n    <tr>\n      <th>237533</th>\n      <td>Worcester</td>\n      <td>42.263955</td>\n      <td>-71.794322</td>\n      <td>5.9</td>\n    </tr>\n    <tr>\n      <th>237534</th>\n      <td>Worcester</td>\n      <td>42.263955</td>\n      <td>-71.794322</td>\n      <td>9.1</td>\n    </tr>\n    <tr>\n      <th>237535</th>\n      <td>Worcester</td>\n      <td>42.263955</td>\n      <td>-71.794322</td>\n      <td>4.1</td>\n    </tr>\n    <tr>\n      <th>237536</th>\n      <td>Worcester</td>\n      <td>42.263955</td>\n      <td>-71.794322</td>\n      <td>5.4</td>\n    </tr>\n  </tbody>\n</table>\n<p>11165 rows × 4 columns</p>\n</div>"
     },
     "execution_count": 18,
     "metadata": {},
     "output_type": "execute_result"
    }
   ],
   "source": [
    "# now trim down to just the columns we care about so it is easier to understand\n",
    "interesting_columns = ['City Name', 'Latitude', 'Longitude', 'Arithmetic Mean']\n",
    "air_MA_2020_df = pd.DataFrame(air_MA_2020_df, columns=interesting_columns)\n",
    "air_MA_2019_df = pd.DataFrame(air_MA_2019_df, columns=interesting_columns)\n",
    "air_MA_2019_df"
   ]
  },
  {
   "cell_type": "code",
   "execution_count": 20,
   "metadata": {
    "ExecuteTime": {
     "end_time": "2023-11-24T21:21:19.546709681Z",
     "start_time": "2023-11-24T21:21:19.390913295Z"
    }
   },
   "outputs": [
    {
     "data": {
      "text/plain": "                                  City   Latitude  Longitude      Mean  year\n0                               Boston  42.328287 -71.069233  7.180022  2019\n1                             Brockton  42.065106 -71.012129  6.602431  2019\n2       Chelmsford (Chelmsford Center)  42.612085 -71.306986  6.952305  2019\n3                             Chicopee  42.194380 -72.555112  4.739232  2019\n4                           Fall River  41.685707 -71.169235  6.728876  2019\n5                           Greenfield  42.605816 -72.596689  6.430217  2019\n6                            Haverhill  42.770837 -71.102290  5.577212  2019\n7                                 Lynn  42.474642 -70.970816  6.567789  2019\n8                          North Adams  42.702223 -73.110414  6.211754  2019\n9                           Pittsfield  42.452158 -73.240124  6.784834  2019\n10                         Springfield  42.120229 -72.584503  7.540858  2019\n11  Ware (census name for Ware Center)  42.298493 -72.334079  5.529567  2019\n12                           Worcester  42.263955 -71.794322  7.998364  2019\n13                              Boston  42.330379 -71.070759  6.950331  2020\n14                            Brockton  42.065106 -71.012129  7.458670  2020\n15      Chelmsford (Chelmsford Center)  42.612085 -71.306986  6.715705  2020\n16                            Chicopee  42.194380 -72.555112  6.676806  2020\n17                          Fall River  41.685707 -71.169235  6.309174  2020\n18                          Greenfield  42.605816 -72.596689  8.162350  2020\n19                           Haverhill  42.770837 -71.102290  5.368826  2020\n20                                Lynn  42.474642 -70.970816  5.530217  2020\n21                         North Adams  42.702223 -73.110414  5.421900  2020\n22                       Not in a city  42.245865 -70.962766  5.294052  2020\n23                          Pittsfield  42.452299 -73.239648  7.481401  2020\n24                         Springfield  42.120229 -72.584503  8.465615  2020\n25  Ware (census name for Ware Center)  42.298493 -72.334079  6.814912  2020\n26                           Worcester  42.263955 -71.794322  8.009763  2020",
      "text/html": "<div>\n<style scoped>\n    .dataframe tbody tr th:only-of-type {\n        vertical-align: middle;\n    }\n\n    .dataframe tbody tr th {\n        vertical-align: top;\n    }\n\n    .dataframe thead th {\n        text-align: right;\n    }\n</style>\n<table border=\"1\" class=\"dataframe\">\n  <thead>\n    <tr style=\"text-align: right;\">\n      <th></th>\n      <th>City</th>\n      <th>Latitude</th>\n      <th>Longitude</th>\n      <th>Mean</th>\n      <th>year</th>\n    </tr>\n  </thead>\n  <tbody>\n    <tr>\n      <th>0</th>\n      <td>Boston</td>\n      <td>42.328287</td>\n      <td>-71.069233</td>\n      <td>7.180022</td>\n      <td>2019</td>\n    </tr>\n    <tr>\n      <th>1</th>\n      <td>Brockton</td>\n      <td>42.065106</td>\n      <td>-71.012129</td>\n      <td>6.602431</td>\n      <td>2019</td>\n    </tr>\n    <tr>\n      <th>2</th>\n      <td>Chelmsford (Chelmsford Center)</td>\n      <td>42.612085</td>\n      <td>-71.306986</td>\n      <td>6.952305</td>\n      <td>2019</td>\n    </tr>\n    <tr>\n      <th>3</th>\n      <td>Chicopee</td>\n      <td>42.194380</td>\n      <td>-72.555112</td>\n      <td>4.739232</td>\n      <td>2019</td>\n    </tr>\n    <tr>\n      <th>4</th>\n      <td>Fall River</td>\n      <td>41.685707</td>\n      <td>-71.169235</td>\n      <td>6.728876</td>\n      <td>2019</td>\n    </tr>\n    <tr>\n      <th>5</th>\n      <td>Greenfield</td>\n      <td>42.605816</td>\n      <td>-72.596689</td>\n      <td>6.430217</td>\n      <td>2019</td>\n    </tr>\n    <tr>\n      <th>6</th>\n      <td>Haverhill</td>\n      <td>42.770837</td>\n      <td>-71.102290</td>\n      <td>5.577212</td>\n      <td>2019</td>\n    </tr>\n    <tr>\n      <th>7</th>\n      <td>Lynn</td>\n      <td>42.474642</td>\n      <td>-70.970816</td>\n      <td>6.567789</td>\n      <td>2019</td>\n    </tr>\n    <tr>\n      <th>8</th>\n      <td>North Adams</td>\n      <td>42.702223</td>\n      <td>-73.110414</td>\n      <td>6.211754</td>\n      <td>2019</td>\n    </tr>\n    <tr>\n      <th>9</th>\n      <td>Pittsfield</td>\n      <td>42.452158</td>\n      <td>-73.240124</td>\n      <td>6.784834</td>\n      <td>2019</td>\n    </tr>\n    <tr>\n      <th>10</th>\n      <td>Springfield</td>\n      <td>42.120229</td>\n      <td>-72.584503</td>\n      <td>7.540858</td>\n      <td>2019</td>\n    </tr>\n    <tr>\n      <th>11</th>\n      <td>Ware (census name for Ware Center)</td>\n      <td>42.298493</td>\n      <td>-72.334079</td>\n      <td>5.529567</td>\n      <td>2019</td>\n    </tr>\n    <tr>\n      <th>12</th>\n      <td>Worcester</td>\n      <td>42.263955</td>\n      <td>-71.794322</td>\n      <td>7.998364</td>\n      <td>2019</td>\n    </tr>\n    <tr>\n      <th>13</th>\n      <td>Boston</td>\n      <td>42.330379</td>\n      <td>-71.070759</td>\n      <td>6.950331</td>\n      <td>2020</td>\n    </tr>\n    <tr>\n      <th>14</th>\n      <td>Brockton</td>\n      <td>42.065106</td>\n      <td>-71.012129</td>\n      <td>7.458670</td>\n      <td>2020</td>\n    </tr>\n    <tr>\n      <th>15</th>\n      <td>Chelmsford (Chelmsford Center)</td>\n      <td>42.612085</td>\n      <td>-71.306986</td>\n      <td>6.715705</td>\n      <td>2020</td>\n    </tr>\n    <tr>\n      <th>16</th>\n      <td>Chicopee</td>\n      <td>42.194380</td>\n      <td>-72.555112</td>\n      <td>6.676806</td>\n      <td>2020</td>\n    </tr>\n    <tr>\n      <th>17</th>\n      <td>Fall River</td>\n      <td>41.685707</td>\n      <td>-71.169235</td>\n      <td>6.309174</td>\n      <td>2020</td>\n    </tr>\n    <tr>\n      <th>18</th>\n      <td>Greenfield</td>\n      <td>42.605816</td>\n      <td>-72.596689</td>\n      <td>8.162350</td>\n      <td>2020</td>\n    </tr>\n    <tr>\n      <th>19</th>\n      <td>Haverhill</td>\n      <td>42.770837</td>\n      <td>-71.102290</td>\n      <td>5.368826</td>\n      <td>2020</td>\n    </tr>\n    <tr>\n      <th>20</th>\n      <td>Lynn</td>\n      <td>42.474642</td>\n      <td>-70.970816</td>\n      <td>5.530217</td>\n      <td>2020</td>\n    </tr>\n    <tr>\n      <th>21</th>\n      <td>North Adams</td>\n      <td>42.702223</td>\n      <td>-73.110414</td>\n      <td>5.421900</td>\n      <td>2020</td>\n    </tr>\n    <tr>\n      <th>22</th>\n      <td>Not in a city</td>\n      <td>42.245865</td>\n      <td>-70.962766</td>\n      <td>5.294052</td>\n      <td>2020</td>\n    </tr>\n    <tr>\n      <th>23</th>\n      <td>Pittsfield</td>\n      <td>42.452299</td>\n      <td>-73.239648</td>\n      <td>7.481401</td>\n      <td>2020</td>\n    </tr>\n    <tr>\n      <th>24</th>\n      <td>Springfield</td>\n      <td>42.120229</td>\n      <td>-72.584503</td>\n      <td>8.465615</td>\n      <td>2020</td>\n    </tr>\n    <tr>\n      <th>25</th>\n      <td>Ware (census name for Ware Center)</td>\n      <td>42.298493</td>\n      <td>-72.334079</td>\n      <td>6.814912</td>\n      <td>2020</td>\n    </tr>\n    <tr>\n      <th>26</th>\n      <td>Worcester</td>\n      <td>42.263955</td>\n      <td>-71.794322</td>\n      <td>8.009763</td>\n      <td>2020</td>\n    </tr>\n  </tbody>\n</table>\n</div>"
     },
     "execution_count": 20,
     "metadata": {},
     "output_type": "execute_result"
    }
   ],
   "source": [
    "# now group all the records by city and average them\n",
    "avg_by_city_2020_MA_df = air_MA_2020_df.groupby('City Name').mean()\\\n",
    "    .reset_index()\\\n",
    "    .rename(columns={'City Name': 'City', 'Arithmetic Mean': 'Mean'})\n",
    "avg_by_city_2019_MA_df = air_MA_2019_df.groupby('City Name').mean()\\\n",
    "    .reset_index()\\\n",
    "    .rename(columns={'City Name': 'City', 'Arithmetic Mean': 'Mean'})\n",
    "# now we need to add in a year column so we can tell the data apart!\n",
    "avg_by_city_2020_MA_df['year'] = 2020\n",
    "avg_by_city_2019_MA_df['year'] = 2019\n",
    "# now we can just contacetane the two dataframes to get all our data in one place\n",
    "# ma_city_avg_df = avg_by_city_2019_MA_df.append(avg_by_city_2020_MA_df)  # legacy\n",
    "ma_city_avg_df = pd.concat([avg_by_city_2019_MA_df, avg_by_city_2020_MA_df], ignore_index=True)\n",
    "ma_city_avg_df.to_csv('./tmp/MA-city-year-avg.csv')\n",
    "ma_city_avg_df"
   ]
  },
  {
   "cell_type": "markdown",
   "metadata": {},
   "source": [
    "## Visually Inspect the Data"
   ]
  },
  {
   "cell_type": "code",
   "execution_count": 21,
   "metadata": {
    "ExecuteTime": {
     "end_time": "2023-11-24T21:22:53.111041878Z",
     "start_time": "2023-11-24T21:22:52.660072879Z"
    }
   },
   "outputs": [
    {
     "data": {
      "text/html": "\n<style>\n  #altair-viz-fbda2c0164b547c4a7152400c8aa6f59.vega-embed {\n    width: 100%;\n    display: flex;\n  }\n\n  #altair-viz-fbda2c0164b547c4a7152400c8aa6f59.vega-embed details,\n  #altair-viz-fbda2c0164b547c4a7152400c8aa6f59.vega-embed details summary {\n    position: relative;\n  }\n</style>\n<div id=\"altair-viz-fbda2c0164b547c4a7152400c8aa6f59\"></div>\n<script type=\"text/javascript\">\n  var VEGA_DEBUG = (typeof VEGA_DEBUG == \"undefined\") ? {} : VEGA_DEBUG;\n  (function(spec, embedOpt){\n    let outputDiv = document.currentScript.previousElementSibling;\n    if (outputDiv.id !== \"altair-viz-fbda2c0164b547c4a7152400c8aa6f59\") {\n      outputDiv = document.getElementById(\"altair-viz-fbda2c0164b547c4a7152400c8aa6f59\");\n    }\n    const paths = {\n      \"vega\": \"https://cdn.jsdelivr.net/npm/vega@5?noext\",\n      \"vega-lib\": \"https://cdn.jsdelivr.net/npm/vega-lib?noext\",\n      \"vega-lite\": \"https://cdn.jsdelivr.net/npm/vega-lite@5.15.1?noext\",\n      \"vega-embed\": \"https://cdn.jsdelivr.net/npm/vega-embed@6?noext\",\n    };\n\n    function maybeLoadScript(lib, version) {\n      var key = `${lib.replace(\"-\", \"\")}_version`;\n      return (VEGA_DEBUG[key] == version) ?\n        Promise.resolve(paths[lib]) :\n        new Promise(function(resolve, reject) {\n          var s = document.createElement('script');\n          document.getElementsByTagName(\"head\")[0].appendChild(s);\n          s.async = true;\n          s.onload = () => {\n            VEGA_DEBUG[key] = version;\n            return resolve(paths[lib]);\n          };\n          s.onerror = () => reject(`Error loading script: ${paths[lib]}`);\n          s.src = paths[lib];\n        });\n    }\n\n    function showError(err) {\n      outputDiv.innerHTML = `<div class=\"error\" style=\"color:red;\">${err}</div>`;\n      throw err;\n    }\n\n    function displayChart(vegaEmbed) {\n      vegaEmbed(outputDiv, spec, embedOpt)\n        .catch(err => showError(`Javascript Error: ${err.message}<br>This usually means there's a typo in your chart specification. See the javascript console for the full traceback.`));\n    }\n\n    if(typeof define === \"function\" && define.amd) {\n      requirejs.config({paths});\n      require([\"vega-embed\"], displayChart, err => showError(`Error loading script: ${err.message}`));\n    } else {\n      maybeLoadScript(\"vega\", \"5\")\n        .then(() => maybeLoadScript(\"vega-lite\", \"5.15.1\"))\n        .then(() => maybeLoadScript(\"vega-embed\", \"6\"))\n        .catch(showError)\n        .then(() => displayChart(vegaEmbed));\n    }\n  })({\"config\": {\"view\": {\"continuousWidth\": 300, \"continuousHeight\": 300}}, \"data\": {\"name\": \"data-0bf075f6053f0eae01a88a3933599b09\"}, \"mark\": {\"type\": \"bar\"}, \"encoding\": {\"color\": {\"field\": \"year\", \"type\": \"nominal\"}, \"column\": {\"field\": \"City\", \"spacing\": 10, \"type\": \"ordinal\"}, \"x\": {\"field\": \"year\", \"type\": \"nominal\"}, \"y\": {\"field\": \"Mean\", \"type\": \"quantitative\"}}, \"height\": 300, \"title\": \"MA City Average PM2.5 (by year)\", \"$schema\": \"https://vega.github.io/schema/vega-lite/v5.15.1.json\", \"datasets\": {\"data-0bf075f6053f0eae01a88a3933599b09\": [{\"City\": \"Boston\", \"Latitude\": 42.32828683267327, \"Longitude\": -71.0692327039604, \"Mean\": 7.180021639108912, \"year\": 2019}, {\"City\": \"Brockton\", \"Latitude\": 42.065106, \"Longitude\": -71.012129, \"Mean\": 6.60243096031746, \"year\": 2019}, {\"City\": \"Chelmsford (Chelmsford Center)\", \"Latitude\": 42.612085, \"Longitude\": -71.306986, \"Mean\": 6.9523048039492235, \"year\": 2019}, {\"City\": \"Chicopee\", \"Latitude\": 42.19438, \"Longitude\": -72.555112, \"Mean\": 4.739232001047121, \"year\": 2019}, {\"City\": \"Fall River\", \"Latitude\": 41.685707, \"Longitude\": -71.169235, \"Mean\": 6.728876373770492, \"year\": 2019}, {\"City\": \"Greenfield\", \"Latitude\": 42.60581599999999, \"Longitude\": -72.596689, \"Mean\": 6.4302166803377565, \"year\": 2019}, {\"City\": \"Haverhill\", \"Latitude\": 42.770837, \"Longitude\": -71.10229, \"Mean\": 5.577211682180851, \"year\": 2019}, {\"City\": \"Lynn\", \"Latitude\": 42.474642, \"Longitude\": -70.970816, \"Mean\": 6.567788747572815, \"year\": 2019}, {\"City\": \"North Adams\", \"Latitude\": 42.702223, \"Longitude\": -73.110414, \"Mean\": 6.211753639321075, \"year\": 2019}, {\"City\": \"Pittsfield\", \"Latitude\": 42.45215784841363, \"Longitude\": -73.24012376968273, \"Mean\": 6.784834363102233, \"year\": 2019}, {\"City\": \"Springfield\", \"Latitude\": 42.120229, \"Longitude\": -72.584503, \"Mean\": 7.540858434108527, \"year\": 2019}, {\"City\": \"Ware (census name for Ware Center)\", \"Latitude\": 42.298493, \"Longitude\": -72.334079, \"Mean\": 5.529567172119488, \"year\": 2019}, {\"City\": \"Worcester\", \"Latitude\": 42.263955, \"Longitude\": -71.794322, \"Mean\": 7.998364066838046, \"year\": 2019}, {\"City\": \"Boston\", \"Latitude\": 42.330378983836205, \"Longitude\": -71.07075917780172, \"Mean\": 6.950331109554598, \"year\": 2020}, {\"City\": \"Brockton\", \"Latitude\": 42.065106, \"Longitude\": -71.012129, \"Mean\": 7.4586702228047175, \"year\": 2020}, {\"City\": \"Chelmsford (Chelmsford Center)\", \"Latitude\": 42.612085, \"Longitude\": -71.306986, \"Mean\": 6.715704984700974, \"year\": 2020}, {\"City\": \"Chicopee\", \"Latitude\": 42.19438, \"Longitude\": -72.555112, \"Mean\": 6.676806385377943, \"year\": 2020}, {\"City\": \"Fall River\", \"Latitude\": 41.685707, \"Longitude\": -71.169235, \"Mean\": 6.309174057636888, \"year\": 2020}, {\"City\": \"Greenfield\", \"Latitude\": 42.605816, \"Longitude\": -72.596689, \"Mean\": 8.162350089498807, \"year\": 2020}, {\"City\": \"Haverhill\", \"Latitude\": 42.770837, \"Longitude\": -71.10229, \"Mean\": 5.368826346965699, \"year\": 2020}, {\"City\": \"Lynn\", \"Latitude\": 42.474642, \"Longitude\": -70.970816, \"Mean\": 5.530216949930459, \"year\": 2020}, {\"City\": \"North Adams\", \"Latitude\": 42.702223, \"Longitude\": -73.110414, \"Mean\": 5.421900305633803, \"year\": 2020}, {\"City\": \"Not in a city\", \"Latitude\": 42.245865, \"Longitude\": -70.962766, \"Mean\": 5.294052230182927, \"year\": 2020}, {\"City\": \"Pittsfield\", \"Latitude\": 42.452299, \"Longitude\": -73.239648, \"Mean\": 7.481400555555556, \"year\": 2020}, {\"City\": \"Springfield\", \"Latitude\": 42.120229, \"Longitude\": -72.584503, \"Mean\": 8.46561491700134, \"year\": 2020}, {\"City\": \"Ware (census name for Ware Center)\", \"Latitude\": 42.298493, \"Longitude\": -72.334079, \"Mean\": 6.814912136778115, \"year\": 2020}, {\"City\": \"Worcester\", \"Latitude\": 42.263955, \"Longitude\": -71.794322, \"Mean\": 8.009762879844962, \"year\": 2020}]}}, {\"mode\": \"vega-lite\"});\n</script>",
      "text/plain": "alt.Chart(...)"
     },
     "execution_count": 21,
     "metadata": {},
     "output_type": "execute_result"
    }
   ],
   "source": [
    "alt.Chart(ma_city_avg_df, height=300).mark_bar().encode(\n",
    "    alt.X('year:N'),\n",
    "    alt.Y('Mean'),\n",
    "    color='year:N',\n",
    "    column=alt.Column(field='City', type='ordinal', spacing=10)\n",
    ").properties( \n",
    "    title=\"MA City Average PM2.5 (by year)\",\n",
    ")"
   ]
  }
 ],
 "metadata": {
  "kernelspec": {
   "display_name": "Python 3",
   "language": "python",
   "name": "python3"
  },
  "language_info": {
   "codemirror_mode": {
    "name": "ipython",
    "version": 3
   },
   "file_extension": ".py",
   "mimetype": "text/x-python",
   "name": "python",
   "nbconvert_exporter": "python",
   "pygments_lexer": "ipython3",
   "version": "3.7.3"
  }
 },
 "nbformat": 4,
 "nbformat_minor": 4
}
