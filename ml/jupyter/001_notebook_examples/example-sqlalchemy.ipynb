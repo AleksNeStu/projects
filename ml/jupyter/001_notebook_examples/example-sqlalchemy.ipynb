{
 "cells": [
  {
   "cell_type": "markdown",
   "metadata": {},
   "source": [
    "Using SQLAlchemy to Talk to a Database\n",
    "=====================\n",
    "SqlAlchemy helps you use a database to store and retrieve information from python.  It abstracts the specific storage engine from te way you use it - so it doesn't care if you end up using MySQL, SQLite, or whatever else. In addition, you can use core and the object-relational mapper (ORM) to avoid writing any SQL at all.  The [SQLAlchemy homepage](http://www.sqlalchemy.org/) has lots of good examples and full documentation."
   ]
  },
  {
   "cell_type": "code",
   "execution_count": 16,
   "metadata": {
    "ExecuteTime": {
     "end_time": "2023-11-24T23:56:17.005854676Z",
     "start_time": "2023-11-24T23:56:16.964534365Z"
    }
   },
   "outputs": [],
   "source": [
    "from sqlalchemy import *\n",
    "import datetime"
   ]
  },
  {
   "cell_type": "markdown",
   "metadata": {},
   "source": [
    "## Basic SQL Generation\n",
    "The core library generates SQL for you.  Read more about it on their [expression language tutorial page](http://docs.sqlalchemy.org/en/rel_1_0/core/index.html). Below are some basic examples."
   ]
  },
  {
   "cell_type": "markdown",
   "metadata": {},
   "source": [
    "### Creating a Table\n",
    "Read more about [defining and creating tables](http://docs.sqlalchemy.org/en/rel_1_0/core/tutorial.html#define-and-create-tables)."
   ]
  },
  {
   "cell_type": "code",
   "execution_count": 17,
   "metadata": {
    "ExecuteTime": {
     "end_time": "2023-11-24T23:56:22.900994176Z",
     "start_time": "2023-11-24T23:56:19.957549322Z"
    }
   },
   "outputs": [
    {
     "name": "stdout",
     "output_type": "stream",
     "text": [
      "2023-11-25 00:56:22,846 INFO sqlalchemy.engine.Engine BEGIN (implicit)\n",
      "2023-11-25 00:56:22,851 INFO sqlalchemy.engine.Engine PRAGMA main.table_info(\"queries\")\n",
      "2023-11-25 00:56:22,854 INFO sqlalchemy.engine.Engine [raw sql] ()\n",
      "2023-11-25 00:56:22,859 INFO sqlalchemy.engine.Engine PRAGMA temp.table_info(\"queries\")\n",
      "2023-11-25 00:56:22,861 INFO sqlalchemy.engine.Engine [raw sql] ()\n",
      "2023-11-25 00:56:22,870 INFO sqlalchemy.engine.Engine \n",
      "CREATE TABLE queries (\n",
      "\tid INTEGER NOT NULL, \n",
      "\tkeywords VARCHAR(400) NOT NULL, \n",
      "\ttimestamp DATETIME, \n",
      "\tPRIMARY KEY (id)\n",
      ")\n",
      "\n",
      "\n",
      "2023-11-25 00:56:22,871 INFO sqlalchemy.engine.Engine [no key 0.00155s] ()\n",
      "2023-11-25 00:56:22,874 INFO sqlalchemy.engine.Engine COMMIT\n"
     ]
    }
   ],
   "source": [
    "# add `echo=True` to see log statements of all the SQL that is generated\n",
    "engine = create_engine('sqlite:///:memory:',echo=True) # just save the db in memory for now (ie. not on disk)\n",
    "metadata = MetaData()\n",
    "# define a table to use\n",
    "queries = Table('queries', metadata,\n",
    "    Column('id', Integer, primary_key=True),\n",
    "    Column('keywords', String(400), nullable=False),\n",
    "    Column('timestamp', DateTime, default=datetime.datetime.now),\n",
    ")\n",
    "metadata.create_all(engine) # and create the tables in the database"
   ]
  },
  {
   "cell_type": "markdown",
   "metadata": {},
   "source": [
    "### Inserting Data\n",
    "Read more about generating [SQL insert statements](http://docs.sqlalchemy.org/en/rel_1_0/core/tutorial.html#insert-expressions)."
   ]
  },
  {
   "cell_type": "code",
   "execution_count": 19,
   "metadata": {
    "ExecuteTime": {
     "end_time": "2023-11-24T23:56:36.010398005Z",
     "start_time": "2023-11-24T23:56:35.969014520Z"
    }
   },
   "outputs": [
    {
     "data": {
      "text/plain": "'INSERT INTO queries (id, keywords, timestamp) VALUES (:id, :keywords, :timestamp)'"
     },
     "execution_count": 19,
     "metadata": {},
     "output_type": "execute_result"
    }
   ],
   "source": [
    "insert_stmt = queries.insert()\n",
    "str(insert_stmt) # see an example of what this will do"
   ]
  },
  {
   "cell_type": "code",
   "execution_count": 20,
   "metadata": {
    "ExecuteTime": {
     "end_time": "2023-11-24T23:56:43.672457252Z",
     "start_time": "2023-11-24T23:56:43.664017596Z"
    }
   },
   "outputs": [],
   "source": [
    "import datetime\n",
    "data = [\n",
    "    {'keywords':'puppies', 'timestamp': datetime.date(2008, 12, 6) },\n",
    "    {'keywords':'kittens', 'timestamp': datetime.date(2009, 12, 6) },\n",
    "    {'keywords':'babies', 'timestamp': datetime.date(2010, 12, 6) },\n",
    "]"
   ]
  },
  {
   "cell_type": "code",
   "execution_count": 21,
   "metadata": {
    "ExecuteTime": {
     "end_time": "2023-11-24T23:56:52.848505272Z",
     "start_time": "2023-11-24T23:56:52.806030296Z"
    }
   },
   "outputs": [
    {
     "name": "stdout",
     "output_type": "stream",
     "text": [
      "2023-11-25 00:56:52,808 INFO sqlalchemy.engine.Engine BEGIN (implicit)\n",
      "2023-11-25 00:56:52,809 INFO sqlalchemy.engine.Engine INSERT INTO queries (keywords, timestamp) VALUES (?, ?)\n",
      "2023-11-25 00:56:52,809 INFO sqlalchemy.engine.Engine [generated in 0.00160s] ('puppies', '2008-12-06 00:00:00.000000')\n",
      "(1,)\n",
      "2023-11-25 00:56:52,811 INFO sqlalchemy.engine.Engine INSERT INTO queries (keywords, timestamp) VALUES (?, ?)\n",
      "2023-11-25 00:56:52,811 INFO sqlalchemy.engine.Engine [cached since 0.003383s ago] ('kittens', '2009-12-06 00:00:00.000000')\n",
      "(2,)\n",
      "2023-11-25 00:56:52,812 INFO sqlalchemy.engine.Engine INSERT INTO queries (keywords, timestamp) VALUES (?, ?)\n",
      "2023-11-25 00:56:52,812 INFO sqlalchemy.engine.Engine [cached since 0.004242s ago] ('babies', '2010-12-06 00:00:00.000000')\n",
      "(3,)\n"
     ]
    }
   ],
   "source": [
    "db_conn = engine.connect()\n",
    "for item in data:\n",
    "    insert_stmt = queries.insert().values(item)\n",
    "    result = db_conn.execute(insert_stmt)\n",
    "    print(result.inserted_primary_key) # print out the primary key it was assigned"
   ]
  },
  {
   "cell_type": "code",
   "execution_count": 23,
   "metadata": {
    "ExecuteTime": {
     "end_time": "2023-11-24T23:57:05.034867258Z",
     "start_time": "2023-11-24T23:57:04.978433395Z"
    }
   },
   "outputs": [
    {
     "name": "stdout",
     "output_type": "stream",
     "text": [
      "2023-11-25 00:57:04,977 INFO sqlalchemy.engine.Engine INSERT INTO queries (keywords, timestamp) VALUES (?, ?)\n",
      "2023-11-25 00:57:04,978 INFO sqlalchemy.engine.Engine [cached since 0.06788s ago] ('kittens', '2023-11-25 00:57:04.977415')\n"
     ]
    },
    {
     "data": {
      "text/plain": "(5,)"
     },
     "execution_count": 23,
     "metadata": {},
     "output_type": "execute_result"
    }
   ],
   "source": [
    "insert_stmt = queries.insert().values(keywords=\"kittens\")\n",
    "result = db_conn.execute(insert_stmt)\n",
    "result.inserted_primary_key # print out the primary key it was assigned"
   ]
  },
  {
   "cell_type": "markdown",
   "metadata": {},
   "source": [
    "### Retrieving Data\n",
    "Read more about using [SQL select statments](http://docs.sqlalchemy.org/en/rel_1_0/core/tutorial.html#selecting)."
   ]
  },
  {
   "cell_type": "code",
   "execution_count": 24,
   "metadata": {
    "ExecuteTime": {
     "end_time": "2023-11-24T23:57:11.934391152Z",
     "start_time": "2023-11-24T23:57:11.875231687Z"
    }
   },
   "outputs": [
    {
     "ename": "ArgumentError",
     "evalue": "Column expression, FROM clause, or other columns clause element expected, got [Table('queries', MetaData(), Column('id', Integer(), table=<queries>, primary_key=True, nullable=False), Column('keywords', String(length=400), table=<queries>, nullable=False), Column('timestamp', DateTime(), table=<queries>, default=CallableColumnDefault(<function datetime.now at 0x7fdfe9723b00>)), schema=None)]. Did you mean to say select(Table('queries', MetaData(), Column('id', Integer(), table=<queries>, primary_key=True, nullable=False), Column('keywords', String(length=400), table=<queries>, nullable=False), Column('timestamp', DateTime(), table=<queries>, default=CallableColumnDefault(<function datetime.now at 0x7fdfe9723b00>)), schema=None))?",
     "output_type": "error",
     "traceback": [
      "\u001B[0;31m---------------------------------------------------------------------------\u001B[0m",
      "\u001B[0;31mArgumentError\u001B[0m                             Traceback (most recent call last)",
      "Cell \u001B[0;32mIn[24], line 2\u001B[0m\n\u001B[1;32m      1\u001B[0m \u001B[38;5;28;01mfrom\u001B[39;00m \u001B[38;5;21;01msqlalchemy\u001B[39;00m\u001B[38;5;21;01m.\u001B[39;00m\u001B[38;5;21;01msql\u001B[39;00m \u001B[38;5;28;01mimport\u001B[39;00m select\n\u001B[0;32m----> 2\u001B[0m select_stmt \u001B[38;5;241m=\u001B[39m \u001B[43mselect\u001B[49m\u001B[43m(\u001B[49m\u001B[43m[\u001B[49m\u001B[43mqueries\u001B[49m\u001B[43m]\u001B[49m\u001B[43m)\u001B[49m\n\u001B[1;32m      3\u001B[0m results \u001B[38;5;241m=\u001B[39m db_conn\u001B[38;5;241m.\u001B[39mexecute(select_stmt)\n\u001B[1;32m      4\u001B[0m \u001B[38;5;28;01mfor\u001B[39;00m row \u001B[38;5;129;01min\u001B[39;00m results:\n",
      "File \u001B[0;32m~/Projects/projects/.venv/lib64/python3.12/site-packages/sqlalchemy/sql/_selectable_constructors.py:489\u001B[0m, in \u001B[0;36mselect\u001B[0;34m(*entities, **__kw)\u001B[0m\n\u001B[1;32m    487\u001B[0m \u001B[38;5;28;01mif\u001B[39;00m __kw:\n\u001B[1;32m    488\u001B[0m     \u001B[38;5;28;01mraise\u001B[39;00m _no_kw()\n\u001B[0;32m--> 489\u001B[0m \u001B[38;5;28;01mreturn\u001B[39;00m \u001B[43mSelect\u001B[49m\u001B[43m(\u001B[49m\u001B[38;5;241;43m*\u001B[39;49m\u001B[43mentities\u001B[49m\u001B[43m)\u001B[49m\n",
      "File \u001B[0;32m~/Projects/projects/.venv/lib64/python3.12/site-packages/sqlalchemy/sql/selectable.py:5137\u001B[0m, in \u001B[0;36mSelect.__init__\u001B[0;34m(self, *entities)\u001B[0m\n\u001B[1;32m   5129\u001B[0m \u001B[38;5;28;01mdef\u001B[39;00m \u001B[38;5;21m__init__\u001B[39m(\u001B[38;5;28mself\u001B[39m, \u001B[38;5;241m*\u001B[39mentities: _ColumnsClauseArgument[Any]):\n\u001B[1;32m   5130\u001B[0m \u001B[38;5;250m    \u001B[39m\u001B[38;5;124mr\u001B[39m\u001B[38;5;124;03m\"\"\"Construct a new :class:`_expression.Select`.\u001B[39;00m\n\u001B[1;32m   5131\u001B[0m \n\u001B[1;32m   5132\u001B[0m \u001B[38;5;124;03m    The public constructor for :class:`_expression.Select` is the\u001B[39;00m\n\u001B[1;32m   5133\u001B[0m \u001B[38;5;124;03m    :func:`_sql.select` function.\u001B[39;00m\n\u001B[1;32m   5134\u001B[0m \n\u001B[1;32m   5135\u001B[0m \u001B[38;5;124;03m    \"\"\"\u001B[39;00m\n\u001B[1;32m   5136\u001B[0m     \u001B[38;5;28mself\u001B[39m\u001B[38;5;241m.\u001B[39m_raw_columns \u001B[38;5;241m=\u001B[39m [\n\u001B[0;32m-> 5137\u001B[0m         \u001B[43mcoercions\u001B[49m\u001B[38;5;241;43m.\u001B[39;49m\u001B[43mexpect\u001B[49m\u001B[43m(\u001B[49m\n\u001B[1;32m   5138\u001B[0m \u001B[43m            \u001B[49m\u001B[43mroles\u001B[49m\u001B[38;5;241;43m.\u001B[39;49m\u001B[43mColumnsClauseRole\u001B[49m\u001B[43m,\u001B[49m\u001B[43m \u001B[49m\u001B[43ment\u001B[49m\u001B[43m,\u001B[49m\u001B[43m \u001B[49m\u001B[43mapply_propagate_attrs\u001B[49m\u001B[38;5;241;43m=\u001B[39;49m\u001B[38;5;28;43mself\u001B[39;49m\n\u001B[1;32m   5139\u001B[0m \u001B[43m        \u001B[49m\u001B[43m)\u001B[49m\n\u001B[1;32m   5140\u001B[0m         \u001B[38;5;28;01mfor\u001B[39;00m ent \u001B[38;5;129;01min\u001B[39;00m entities\n\u001B[1;32m   5141\u001B[0m     ]\n\u001B[1;32m   5143\u001B[0m     GenerativeSelect\u001B[38;5;241m.\u001B[39m\u001B[38;5;21m__init__\u001B[39m(\u001B[38;5;28mself\u001B[39m)\n",
      "File \u001B[0;32m~/Projects/projects/.venv/lib64/python3.12/site-packages/sqlalchemy/sql/coercions.py:413\u001B[0m, in \u001B[0;36mexpect\u001B[0;34m(role, element, apply_propagate_attrs, argname, post_inspect, disable_inspection, **kw)\u001B[0m\n\u001B[1;32m    410\u001B[0m                 impl\u001B[38;5;241m.\u001B[39m_raise_for_expected(original_element, argname)\n\u001B[1;32m    412\u001B[0m     \u001B[38;5;28;01mif\u001B[39;00m resolved \u001B[38;5;129;01mis\u001B[39;00m \u001B[38;5;28;01mNone\u001B[39;00m:\n\u001B[0;32m--> 413\u001B[0m         resolved \u001B[38;5;241m=\u001B[39m \u001B[43mimpl\u001B[49m\u001B[38;5;241;43m.\u001B[39;49m\u001B[43m_literal_coercion\u001B[49m\u001B[43m(\u001B[49m\n\u001B[1;32m    414\u001B[0m \u001B[43m            \u001B[49m\u001B[43melement\u001B[49m\u001B[43m,\u001B[49m\u001B[43m \u001B[49m\u001B[43margname\u001B[49m\u001B[38;5;241;43m=\u001B[39;49m\u001B[43margname\u001B[49m\u001B[43m,\u001B[49m\u001B[43m \u001B[49m\u001B[38;5;241;43m*\u001B[39;49m\u001B[38;5;241;43m*\u001B[39;49m\u001B[43mkw\u001B[49m\n\u001B[1;32m    415\u001B[0m \u001B[43m        \u001B[49m\u001B[43m)\u001B[49m\n\u001B[1;32m    416\u001B[0m \u001B[38;5;28;01melse\u001B[39;00m:\n\u001B[1;32m    417\u001B[0m     resolved \u001B[38;5;241m=\u001B[39m element\n",
      "File \u001B[0;32m~/Projects/projects/.venv/lib64/python3.12/site-packages/sqlalchemy/sql/coercions.py:651\u001B[0m, in \u001B[0;36m_CoerceLiterals._literal_coercion\u001B[0;34m(self, element, argname, **kw)\u001B[0m\n\u001B[1;32m    648\u001B[0m \u001B[38;5;28;01mif\u001B[39;00m \u001B[38;5;28mself\u001B[39m\u001B[38;5;241m.\u001B[39m_coerce_numerics \u001B[38;5;129;01mand\u001B[39;00m \u001B[38;5;28misinstance\u001B[39m(element, (numbers\u001B[38;5;241m.\u001B[39mNumber)):\n\u001B[1;32m    649\u001B[0m     \u001B[38;5;28;01mreturn\u001B[39;00m elements\u001B[38;5;241m.\u001B[39mColumnClause(\u001B[38;5;28mstr\u001B[39m(element), is_literal\u001B[38;5;241m=\u001B[39m\u001B[38;5;28;01mTrue\u001B[39;00m)\n\u001B[0;32m--> 651\u001B[0m \u001B[38;5;28;43mself\u001B[39;49m\u001B[38;5;241;43m.\u001B[39;49m\u001B[43m_raise_for_expected\u001B[49m\u001B[43m(\u001B[49m\u001B[43melement\u001B[49m\u001B[43m,\u001B[49m\u001B[43m \u001B[49m\u001B[43margname\u001B[49m\u001B[43m)\u001B[49m\n",
      "File \u001B[0;32m~/Projects/projects/.venv/lib64/python3.12/site-packages/sqlalchemy/sql/coercions.py:1139\u001B[0m, in \u001B[0;36mColumnsClauseImpl._raise_for_expected\u001B[0;34m(self, element, argname, resolved, advice, **kw)\u001B[0m\n\u001B[1;32m   1133\u001B[0m \u001B[38;5;28;01mif\u001B[39;00m \u001B[38;5;129;01mnot\u001B[39;00m advice \u001B[38;5;129;01mand\u001B[39;00m \u001B[38;5;28misinstance\u001B[39m(element, \u001B[38;5;28mlist\u001B[39m):\n\u001B[1;32m   1134\u001B[0m     advice \u001B[38;5;241m=\u001B[39m (\n\u001B[1;32m   1135\u001B[0m         \u001B[38;5;124mf\u001B[39m\u001B[38;5;124m\"\u001B[39m\u001B[38;5;124mDid you mean to say select(\u001B[39m\u001B[38;5;124m\"\u001B[39m\n\u001B[1;32m   1136\u001B[0m         \u001B[38;5;124mf\u001B[39m\u001B[38;5;124m\"\u001B[39m\u001B[38;5;132;01m{\u001B[39;00m\u001B[38;5;124m'\u001B[39m\u001B[38;5;124m, \u001B[39m\u001B[38;5;124m'\u001B[39m\u001B[38;5;241m.\u001B[39mjoin(\u001B[38;5;28mrepr\u001B[39m(e)\u001B[38;5;250m \u001B[39m\u001B[38;5;28;01mfor\u001B[39;00m\u001B[38;5;250m \u001B[39me\u001B[38;5;250m \u001B[39m\u001B[38;5;129;01min\u001B[39;00m\u001B[38;5;250m \u001B[39melement)\u001B[38;5;132;01m}\u001B[39;00m\u001B[38;5;124m)?\u001B[39m\u001B[38;5;124m\"\u001B[39m\n\u001B[1;32m   1137\u001B[0m     )\n\u001B[0;32m-> 1139\u001B[0m \u001B[38;5;28;01mreturn\u001B[39;00m \u001B[38;5;28;43msuper\u001B[39;49m\u001B[43m(\u001B[49m\u001B[43m)\u001B[49m\u001B[38;5;241;43m.\u001B[39;49m\u001B[43m_raise_for_expected\u001B[49m\u001B[43m(\u001B[49m\n\u001B[1;32m   1140\u001B[0m \u001B[43m    \u001B[49m\u001B[43melement\u001B[49m\u001B[43m,\u001B[49m\u001B[43m \u001B[49m\u001B[43margname\u001B[49m\u001B[38;5;241;43m=\u001B[39;49m\u001B[43margname\u001B[49m\u001B[43m,\u001B[49m\u001B[43m \u001B[49m\u001B[43mresolved\u001B[49m\u001B[38;5;241;43m=\u001B[39;49m\u001B[43mresolved\u001B[49m\u001B[43m,\u001B[49m\u001B[43m \u001B[49m\u001B[43madvice\u001B[49m\u001B[38;5;241;43m=\u001B[39;49m\u001B[43madvice\u001B[49m\u001B[43m,\u001B[49m\u001B[43m \u001B[49m\u001B[38;5;241;43m*\u001B[39;49m\u001B[38;5;241;43m*\u001B[39;49m\u001B[43mkw\u001B[49m\n\u001B[1;32m   1141\u001B[0m \u001B[43m\u001B[49m\u001B[43m)\u001B[49m\n",
      "File \u001B[0;32m~/Projects/projects/.venv/lib64/python3.12/site-packages/sqlalchemy/sql/coercions.py:710\u001B[0m, in \u001B[0;36m_SelectIsNotFrom._raise_for_expected\u001B[0;34m(self, element, argname, resolved, advice, code, err, **kw)\u001B[0m\n\u001B[1;32m    707\u001B[0m \u001B[38;5;28;01melse\u001B[39;00m:\n\u001B[1;32m    708\u001B[0m     code \u001B[38;5;241m=\u001B[39m \u001B[38;5;28;01mNone\u001B[39;00m\n\u001B[0;32m--> 710\u001B[0m \u001B[38;5;28;43msuper\u001B[39;49m\u001B[43m(\u001B[49m\u001B[43m)\u001B[49m\u001B[38;5;241;43m.\u001B[39;49m\u001B[43m_raise_for_expected\u001B[49m\u001B[43m(\u001B[49m\n\u001B[1;32m    711\u001B[0m \u001B[43m    \u001B[49m\u001B[43melement\u001B[49m\u001B[43m,\u001B[49m\n\u001B[1;32m    712\u001B[0m \u001B[43m    \u001B[49m\u001B[43margname\u001B[49m\u001B[38;5;241;43m=\u001B[39;49m\u001B[43margname\u001B[49m\u001B[43m,\u001B[49m\n\u001B[1;32m    713\u001B[0m \u001B[43m    \u001B[49m\u001B[43mresolved\u001B[49m\u001B[38;5;241;43m=\u001B[39;49m\u001B[43mresolved\u001B[49m\u001B[43m,\u001B[49m\n\u001B[1;32m    714\u001B[0m \u001B[43m    \u001B[49m\u001B[43madvice\u001B[49m\u001B[38;5;241;43m=\u001B[39;49m\u001B[43madvice\u001B[49m\u001B[43m,\u001B[49m\n\u001B[1;32m    715\u001B[0m \u001B[43m    \u001B[49m\u001B[43mcode\u001B[49m\u001B[38;5;241;43m=\u001B[39;49m\u001B[43mcode\u001B[49m\u001B[43m,\u001B[49m\n\u001B[1;32m    716\u001B[0m \u001B[43m    \u001B[49m\u001B[43merr\u001B[49m\u001B[38;5;241;43m=\u001B[39;49m\u001B[43merr\u001B[49m\u001B[43m,\u001B[49m\n\u001B[1;32m    717\u001B[0m \u001B[43m    \u001B[49m\u001B[38;5;241;43m*\u001B[39;49m\u001B[38;5;241;43m*\u001B[39;49m\u001B[43mkw\u001B[49m\u001B[43m,\u001B[49m\n\u001B[1;32m    718\u001B[0m \u001B[43m\u001B[49m\u001B[43m)\u001B[49m\n\u001B[1;32m    719\u001B[0m \u001B[38;5;66;03m# never reached\u001B[39;00m\n\u001B[1;32m    720\u001B[0m \u001B[38;5;28;01massert\u001B[39;00m \u001B[38;5;28;01mFalse\u001B[39;00m\n",
      "File \u001B[0;32m~/Projects/projects/.venv/lib64/python3.12/site-packages/sqlalchemy/sql/coercions.py:535\u001B[0m, in \u001B[0;36mRoleImpl._raise_for_expected\u001B[0;34m(self, element, argname, resolved, advice, code, err, **kw)\u001B[0m\n\u001B[1;32m    532\u001B[0m \u001B[38;5;28;01mif\u001B[39;00m advice:\n\u001B[1;32m    533\u001B[0m     msg \u001B[38;5;241m+\u001B[39m\u001B[38;5;241m=\u001B[39m \u001B[38;5;124m\"\u001B[39m\u001B[38;5;124m \u001B[39m\u001B[38;5;124m\"\u001B[39m \u001B[38;5;241m+\u001B[39m advice\n\u001B[0;32m--> 535\u001B[0m \u001B[38;5;28;01mraise\u001B[39;00m exc\u001B[38;5;241m.\u001B[39mArgumentError(msg, code\u001B[38;5;241m=\u001B[39mcode) \u001B[38;5;28;01mfrom\u001B[39;00m \u001B[38;5;21;01merr\u001B[39;00m\n",
      "\u001B[0;31mArgumentError\u001B[0m: Column expression, FROM clause, or other columns clause element expected, got [Table('queries', MetaData(), Column('id', Integer(), table=<queries>, primary_key=True, nullable=False), Column('keywords', String(length=400), table=<queries>, nullable=False), Column('timestamp', DateTime(), table=<queries>, default=CallableColumnDefault(<function datetime.now at 0x7fdfe9723b00>)), schema=None)]. Did you mean to say select(Table('queries', MetaData(), Column('id', Integer(), table=<queries>, primary_key=True, nullable=False), Column('keywords', String(length=400), table=<queries>, nullable=False), Column('timestamp', DateTime(), table=<queries>, default=CallableColumnDefault(<function datetime.now at 0x7fdfe9723b00>)), schema=None))?"
     ]
    }
   ],
   "source": [
    "from sqlalchemy.sql import select\n",
    "select_stmt = select([queries])\n",
    "results = db_conn.execute(select_stmt)\n",
    "for row in results:\n",
    "    print(row)"
   ]
  },
  {
   "cell_type": "code",
   "execution_count": 25,
   "metadata": {
    "ExecuteTime": {
     "end_time": "2023-11-24T23:57:33.546673815Z",
     "start_time": "2023-11-24T23:57:33.491104238Z"
    }
   },
   "outputs": [
    {
     "ename": "ArgumentError",
     "evalue": "Column expression, FROM clause, or other columns clause element expected, got [Table('queries', MetaData(), Column('id', Integer(), table=<queries>, primary_key=True, nullable=False), Column('keywords', String(length=400), table=<queries>, nullable=False), Column('timestamp', DateTime(), table=<queries>, default=CallableColumnDefault(<function datetime.now at 0x7fdfe9723b00>)), schema=None)]. Did you mean to say select(Table('queries', MetaData(), Column('id', Integer(), table=<queries>, primary_key=True, nullable=False), Column('keywords', String(length=400), table=<queries>, nullable=False), Column('timestamp', DateTime(), table=<queries>, default=CallableColumnDefault(<function datetime.now at 0x7fdfe9723b00>)), schema=None))?",
     "output_type": "error",
     "traceback": [
      "\u001B[0;31m---------------------------------------------------------------------------\u001B[0m",
      "\u001B[0;31mArgumentError\u001B[0m                             Traceback (most recent call last)",
      "Cell \u001B[0;32mIn[25], line 1\u001B[0m\n\u001B[0;32m----> 1\u001B[0m select_stmt \u001B[38;5;241m=\u001B[39m \u001B[43mselect\u001B[49m\u001B[43m(\u001B[49m\u001B[43m[\u001B[49m\u001B[43mqueries\u001B[49m\u001B[43m]\u001B[49m\u001B[43m)\u001B[49m\u001B[38;5;241m.\u001B[39mwhere(queries\u001B[38;5;241m.\u001B[39mc\u001B[38;5;241m.\u001B[39mid\u001B[38;5;241m==\u001B[39m\u001B[38;5;241m1\u001B[39m)\n\u001B[1;32m      2\u001B[0m \u001B[38;5;28;01mfor\u001B[39;00m row \u001B[38;5;129;01min\u001B[39;00m db_conn\u001B[38;5;241m.\u001B[39mexecute(select_stmt):\n\u001B[1;32m      3\u001B[0m     \u001B[38;5;28mprint\u001B[39m(row)\n",
      "File \u001B[0;32m~/Projects/projects/.venv/lib64/python3.12/site-packages/sqlalchemy/sql/_selectable_constructors.py:489\u001B[0m, in \u001B[0;36mselect\u001B[0;34m(*entities, **__kw)\u001B[0m\n\u001B[1;32m    487\u001B[0m \u001B[38;5;28;01mif\u001B[39;00m __kw:\n\u001B[1;32m    488\u001B[0m     \u001B[38;5;28;01mraise\u001B[39;00m _no_kw()\n\u001B[0;32m--> 489\u001B[0m \u001B[38;5;28;01mreturn\u001B[39;00m \u001B[43mSelect\u001B[49m\u001B[43m(\u001B[49m\u001B[38;5;241;43m*\u001B[39;49m\u001B[43mentities\u001B[49m\u001B[43m)\u001B[49m\n",
      "File \u001B[0;32m~/Projects/projects/.venv/lib64/python3.12/site-packages/sqlalchemy/sql/selectable.py:5137\u001B[0m, in \u001B[0;36mSelect.__init__\u001B[0;34m(self, *entities)\u001B[0m\n\u001B[1;32m   5129\u001B[0m \u001B[38;5;28;01mdef\u001B[39;00m \u001B[38;5;21m__init__\u001B[39m(\u001B[38;5;28mself\u001B[39m, \u001B[38;5;241m*\u001B[39mentities: _ColumnsClauseArgument[Any]):\n\u001B[1;32m   5130\u001B[0m \u001B[38;5;250m    \u001B[39m\u001B[38;5;124mr\u001B[39m\u001B[38;5;124;03m\"\"\"Construct a new :class:`_expression.Select`.\u001B[39;00m\n\u001B[1;32m   5131\u001B[0m \n\u001B[1;32m   5132\u001B[0m \u001B[38;5;124;03m    The public constructor for :class:`_expression.Select` is the\u001B[39;00m\n\u001B[1;32m   5133\u001B[0m \u001B[38;5;124;03m    :func:`_sql.select` function.\u001B[39;00m\n\u001B[1;32m   5134\u001B[0m \n\u001B[1;32m   5135\u001B[0m \u001B[38;5;124;03m    \"\"\"\u001B[39;00m\n\u001B[1;32m   5136\u001B[0m     \u001B[38;5;28mself\u001B[39m\u001B[38;5;241m.\u001B[39m_raw_columns \u001B[38;5;241m=\u001B[39m [\n\u001B[0;32m-> 5137\u001B[0m         \u001B[43mcoercions\u001B[49m\u001B[38;5;241;43m.\u001B[39;49m\u001B[43mexpect\u001B[49m\u001B[43m(\u001B[49m\n\u001B[1;32m   5138\u001B[0m \u001B[43m            \u001B[49m\u001B[43mroles\u001B[49m\u001B[38;5;241;43m.\u001B[39;49m\u001B[43mColumnsClauseRole\u001B[49m\u001B[43m,\u001B[49m\u001B[43m \u001B[49m\u001B[43ment\u001B[49m\u001B[43m,\u001B[49m\u001B[43m \u001B[49m\u001B[43mapply_propagate_attrs\u001B[49m\u001B[38;5;241;43m=\u001B[39;49m\u001B[38;5;28;43mself\u001B[39;49m\n\u001B[1;32m   5139\u001B[0m \u001B[43m        \u001B[49m\u001B[43m)\u001B[49m\n\u001B[1;32m   5140\u001B[0m         \u001B[38;5;28;01mfor\u001B[39;00m ent \u001B[38;5;129;01min\u001B[39;00m entities\n\u001B[1;32m   5141\u001B[0m     ]\n\u001B[1;32m   5143\u001B[0m     GenerativeSelect\u001B[38;5;241m.\u001B[39m\u001B[38;5;21m__init__\u001B[39m(\u001B[38;5;28mself\u001B[39m)\n",
      "File \u001B[0;32m~/Projects/projects/.venv/lib64/python3.12/site-packages/sqlalchemy/sql/coercions.py:413\u001B[0m, in \u001B[0;36mexpect\u001B[0;34m(role, element, apply_propagate_attrs, argname, post_inspect, disable_inspection, **kw)\u001B[0m\n\u001B[1;32m    410\u001B[0m                 impl\u001B[38;5;241m.\u001B[39m_raise_for_expected(original_element, argname)\n\u001B[1;32m    412\u001B[0m     \u001B[38;5;28;01mif\u001B[39;00m resolved \u001B[38;5;129;01mis\u001B[39;00m \u001B[38;5;28;01mNone\u001B[39;00m:\n\u001B[0;32m--> 413\u001B[0m         resolved \u001B[38;5;241m=\u001B[39m \u001B[43mimpl\u001B[49m\u001B[38;5;241;43m.\u001B[39;49m\u001B[43m_literal_coercion\u001B[49m\u001B[43m(\u001B[49m\n\u001B[1;32m    414\u001B[0m \u001B[43m            \u001B[49m\u001B[43melement\u001B[49m\u001B[43m,\u001B[49m\u001B[43m \u001B[49m\u001B[43margname\u001B[49m\u001B[38;5;241;43m=\u001B[39;49m\u001B[43margname\u001B[49m\u001B[43m,\u001B[49m\u001B[43m \u001B[49m\u001B[38;5;241;43m*\u001B[39;49m\u001B[38;5;241;43m*\u001B[39;49m\u001B[43mkw\u001B[49m\n\u001B[1;32m    415\u001B[0m \u001B[43m        \u001B[49m\u001B[43m)\u001B[49m\n\u001B[1;32m    416\u001B[0m \u001B[38;5;28;01melse\u001B[39;00m:\n\u001B[1;32m    417\u001B[0m     resolved \u001B[38;5;241m=\u001B[39m element\n",
      "File \u001B[0;32m~/Projects/projects/.venv/lib64/python3.12/site-packages/sqlalchemy/sql/coercions.py:651\u001B[0m, in \u001B[0;36m_CoerceLiterals._literal_coercion\u001B[0;34m(self, element, argname, **kw)\u001B[0m\n\u001B[1;32m    648\u001B[0m \u001B[38;5;28;01mif\u001B[39;00m \u001B[38;5;28mself\u001B[39m\u001B[38;5;241m.\u001B[39m_coerce_numerics \u001B[38;5;129;01mand\u001B[39;00m \u001B[38;5;28misinstance\u001B[39m(element, (numbers\u001B[38;5;241m.\u001B[39mNumber)):\n\u001B[1;32m    649\u001B[0m     \u001B[38;5;28;01mreturn\u001B[39;00m elements\u001B[38;5;241m.\u001B[39mColumnClause(\u001B[38;5;28mstr\u001B[39m(element), is_literal\u001B[38;5;241m=\u001B[39m\u001B[38;5;28;01mTrue\u001B[39;00m)\n\u001B[0;32m--> 651\u001B[0m \u001B[38;5;28;43mself\u001B[39;49m\u001B[38;5;241;43m.\u001B[39;49m\u001B[43m_raise_for_expected\u001B[49m\u001B[43m(\u001B[49m\u001B[43melement\u001B[49m\u001B[43m,\u001B[49m\u001B[43m \u001B[49m\u001B[43margname\u001B[49m\u001B[43m)\u001B[49m\n",
      "File \u001B[0;32m~/Projects/projects/.venv/lib64/python3.12/site-packages/sqlalchemy/sql/coercions.py:1139\u001B[0m, in \u001B[0;36mColumnsClauseImpl._raise_for_expected\u001B[0;34m(self, element, argname, resolved, advice, **kw)\u001B[0m\n\u001B[1;32m   1133\u001B[0m \u001B[38;5;28;01mif\u001B[39;00m \u001B[38;5;129;01mnot\u001B[39;00m advice \u001B[38;5;129;01mand\u001B[39;00m \u001B[38;5;28misinstance\u001B[39m(element, \u001B[38;5;28mlist\u001B[39m):\n\u001B[1;32m   1134\u001B[0m     advice \u001B[38;5;241m=\u001B[39m (\n\u001B[1;32m   1135\u001B[0m         \u001B[38;5;124mf\u001B[39m\u001B[38;5;124m\"\u001B[39m\u001B[38;5;124mDid you mean to say select(\u001B[39m\u001B[38;5;124m\"\u001B[39m\n\u001B[1;32m   1136\u001B[0m         \u001B[38;5;124mf\u001B[39m\u001B[38;5;124m\"\u001B[39m\u001B[38;5;132;01m{\u001B[39;00m\u001B[38;5;124m'\u001B[39m\u001B[38;5;124m, \u001B[39m\u001B[38;5;124m'\u001B[39m\u001B[38;5;241m.\u001B[39mjoin(\u001B[38;5;28mrepr\u001B[39m(e)\u001B[38;5;250m \u001B[39m\u001B[38;5;28;01mfor\u001B[39;00m\u001B[38;5;250m \u001B[39me\u001B[38;5;250m \u001B[39m\u001B[38;5;129;01min\u001B[39;00m\u001B[38;5;250m \u001B[39melement)\u001B[38;5;132;01m}\u001B[39;00m\u001B[38;5;124m)?\u001B[39m\u001B[38;5;124m\"\u001B[39m\n\u001B[1;32m   1137\u001B[0m     )\n\u001B[0;32m-> 1139\u001B[0m \u001B[38;5;28;01mreturn\u001B[39;00m \u001B[38;5;28;43msuper\u001B[39;49m\u001B[43m(\u001B[49m\u001B[43m)\u001B[49m\u001B[38;5;241;43m.\u001B[39;49m\u001B[43m_raise_for_expected\u001B[49m\u001B[43m(\u001B[49m\n\u001B[1;32m   1140\u001B[0m \u001B[43m    \u001B[49m\u001B[43melement\u001B[49m\u001B[43m,\u001B[49m\u001B[43m \u001B[49m\u001B[43margname\u001B[49m\u001B[38;5;241;43m=\u001B[39;49m\u001B[43margname\u001B[49m\u001B[43m,\u001B[49m\u001B[43m \u001B[49m\u001B[43mresolved\u001B[49m\u001B[38;5;241;43m=\u001B[39;49m\u001B[43mresolved\u001B[49m\u001B[43m,\u001B[49m\u001B[43m \u001B[49m\u001B[43madvice\u001B[49m\u001B[38;5;241;43m=\u001B[39;49m\u001B[43madvice\u001B[49m\u001B[43m,\u001B[49m\u001B[43m \u001B[49m\u001B[38;5;241;43m*\u001B[39;49m\u001B[38;5;241;43m*\u001B[39;49m\u001B[43mkw\u001B[49m\n\u001B[1;32m   1141\u001B[0m \u001B[43m\u001B[49m\u001B[43m)\u001B[49m\n",
      "File \u001B[0;32m~/Projects/projects/.venv/lib64/python3.12/site-packages/sqlalchemy/sql/coercions.py:710\u001B[0m, in \u001B[0;36m_SelectIsNotFrom._raise_for_expected\u001B[0;34m(self, element, argname, resolved, advice, code, err, **kw)\u001B[0m\n\u001B[1;32m    707\u001B[0m \u001B[38;5;28;01melse\u001B[39;00m:\n\u001B[1;32m    708\u001B[0m     code \u001B[38;5;241m=\u001B[39m \u001B[38;5;28;01mNone\u001B[39;00m\n\u001B[0;32m--> 710\u001B[0m \u001B[38;5;28;43msuper\u001B[39;49m\u001B[43m(\u001B[49m\u001B[43m)\u001B[49m\u001B[38;5;241;43m.\u001B[39;49m\u001B[43m_raise_for_expected\u001B[49m\u001B[43m(\u001B[49m\n\u001B[1;32m    711\u001B[0m \u001B[43m    \u001B[49m\u001B[43melement\u001B[49m\u001B[43m,\u001B[49m\n\u001B[1;32m    712\u001B[0m \u001B[43m    \u001B[49m\u001B[43margname\u001B[49m\u001B[38;5;241;43m=\u001B[39;49m\u001B[43margname\u001B[49m\u001B[43m,\u001B[49m\n\u001B[1;32m    713\u001B[0m \u001B[43m    \u001B[49m\u001B[43mresolved\u001B[49m\u001B[38;5;241;43m=\u001B[39;49m\u001B[43mresolved\u001B[49m\u001B[43m,\u001B[49m\n\u001B[1;32m    714\u001B[0m \u001B[43m    \u001B[49m\u001B[43madvice\u001B[49m\u001B[38;5;241;43m=\u001B[39;49m\u001B[43madvice\u001B[49m\u001B[43m,\u001B[49m\n\u001B[1;32m    715\u001B[0m \u001B[43m    \u001B[49m\u001B[43mcode\u001B[49m\u001B[38;5;241;43m=\u001B[39;49m\u001B[43mcode\u001B[49m\u001B[43m,\u001B[49m\n\u001B[1;32m    716\u001B[0m \u001B[43m    \u001B[49m\u001B[43merr\u001B[49m\u001B[38;5;241;43m=\u001B[39;49m\u001B[43merr\u001B[49m\u001B[43m,\u001B[49m\n\u001B[1;32m    717\u001B[0m \u001B[43m    \u001B[49m\u001B[38;5;241;43m*\u001B[39;49m\u001B[38;5;241;43m*\u001B[39;49m\u001B[43mkw\u001B[49m\u001B[43m,\u001B[49m\n\u001B[1;32m    718\u001B[0m \u001B[43m\u001B[49m\u001B[43m)\u001B[49m\n\u001B[1;32m    719\u001B[0m \u001B[38;5;66;03m# never reached\u001B[39;00m\n\u001B[1;32m    720\u001B[0m \u001B[38;5;28;01massert\u001B[39;00m \u001B[38;5;28;01mFalse\u001B[39;00m\n",
      "File \u001B[0;32m~/Projects/projects/.venv/lib64/python3.12/site-packages/sqlalchemy/sql/coercions.py:535\u001B[0m, in \u001B[0;36mRoleImpl._raise_for_expected\u001B[0;34m(self, element, argname, resolved, advice, code, err, **kw)\u001B[0m\n\u001B[1;32m    532\u001B[0m \u001B[38;5;28;01mif\u001B[39;00m advice:\n\u001B[1;32m    533\u001B[0m     msg \u001B[38;5;241m+\u001B[39m\u001B[38;5;241m=\u001B[39m \u001B[38;5;124m\"\u001B[39m\u001B[38;5;124m \u001B[39m\u001B[38;5;124m\"\u001B[39m \u001B[38;5;241m+\u001B[39m advice\n\u001B[0;32m--> 535\u001B[0m \u001B[38;5;28;01mraise\u001B[39;00m exc\u001B[38;5;241m.\u001B[39mArgumentError(msg, code\u001B[38;5;241m=\u001B[39mcode) \u001B[38;5;28;01mfrom\u001B[39;00m \u001B[38;5;21;01merr\u001B[39;00m\n",
      "\u001B[0;31mArgumentError\u001B[0m: Column expression, FROM clause, or other columns clause element expected, got [Table('queries', MetaData(), Column('id', Integer(), table=<queries>, primary_key=True, nullable=False), Column('keywords', String(length=400), table=<queries>, nullable=False), Column('timestamp', DateTime(), table=<queries>, default=CallableColumnDefault(<function datetime.now at 0x7fdfe9723b00>)), schema=None)]. Did you mean to say select(Table('queries', MetaData(), Column('id', Integer(), table=<queries>, primary_key=True, nullable=False), Column('keywords', String(length=400), table=<queries>, nullable=False), Column('timestamp', DateTime(), table=<queries>, default=CallableColumnDefault(<function datetime.now at 0x7fdfe9723b00>)), schema=None))?"
     ]
    }
   ],
   "source": [
    "select_stmt = select([queries]).where(queries.c.id==1)\n",
    "for row in db_conn.execute(select_stmt):\n",
    "    print(row)"
   ]
  },
  {
   "cell_type": "code",
   "execution_count": 26,
   "metadata": {
    "ExecuteTime": {
     "end_time": "2023-11-24T23:57:45.422536085Z",
     "start_time": "2023-11-24T23:57:45.365486762Z"
    }
   },
   "outputs": [
    {
     "ename": "ArgumentError",
     "evalue": "Column expression, FROM clause, or other columns clause element expected, got [Table('queries', MetaData(), Column('id', Integer(), table=<queries>, primary_key=True, nullable=False), Column('keywords', String(length=400), table=<queries>, nullable=False), Column('timestamp', DateTime(), table=<queries>, default=CallableColumnDefault(<function datetime.now at 0x7fdfe9723b00>)), schema=None)]. Did you mean to say select(Table('queries', MetaData(), Column('id', Integer(), table=<queries>, primary_key=True, nullable=False), Column('keywords', String(length=400), table=<queries>, nullable=False), Column('timestamp', DateTime(), table=<queries>, default=CallableColumnDefault(<function datetime.now at 0x7fdfe9723b00>)), schema=None))?",
     "output_type": "error",
     "traceback": [
      "\u001B[0;31m---------------------------------------------------------------------------\u001B[0m",
      "\u001B[0;31mArgumentError\u001B[0m                             Traceback (most recent call last)",
      "Cell \u001B[0;32mIn[26], line 1\u001B[0m\n\u001B[0;32m----> 1\u001B[0m select_stmt \u001B[38;5;241m=\u001B[39m \u001B[43mselect\u001B[49m\u001B[43m(\u001B[49m\u001B[43m[\u001B[49m\u001B[43mqueries\u001B[49m\u001B[43m]\u001B[49m\u001B[43m)\u001B[49m\u001B[38;5;241m.\u001B[39mwhere(queries\u001B[38;5;241m.\u001B[39mc\u001B[38;5;241m.\u001B[39mkeywords\u001B[38;5;241m.\u001B[39mlike(\u001B[38;5;124m'\u001B[39m\u001B[38;5;124mp\u001B[39m\u001B[38;5;124m%\u001B[39m\u001B[38;5;124m'\u001B[39m))\n\u001B[1;32m      2\u001B[0m \u001B[38;5;28;01mfor\u001B[39;00m row \u001B[38;5;129;01min\u001B[39;00m db_conn\u001B[38;5;241m.\u001B[39mexecute(select_stmt):\n\u001B[1;32m      3\u001B[0m     \u001B[38;5;28mprint\u001B[39m(row)\n",
      "File \u001B[0;32m~/Projects/projects/.venv/lib64/python3.12/site-packages/sqlalchemy/sql/_selectable_constructors.py:489\u001B[0m, in \u001B[0;36mselect\u001B[0;34m(*entities, **__kw)\u001B[0m\n\u001B[1;32m    487\u001B[0m \u001B[38;5;28;01mif\u001B[39;00m __kw:\n\u001B[1;32m    488\u001B[0m     \u001B[38;5;28;01mraise\u001B[39;00m _no_kw()\n\u001B[0;32m--> 489\u001B[0m \u001B[38;5;28;01mreturn\u001B[39;00m \u001B[43mSelect\u001B[49m\u001B[43m(\u001B[49m\u001B[38;5;241;43m*\u001B[39;49m\u001B[43mentities\u001B[49m\u001B[43m)\u001B[49m\n",
      "File \u001B[0;32m~/Projects/projects/.venv/lib64/python3.12/site-packages/sqlalchemy/sql/selectable.py:5137\u001B[0m, in \u001B[0;36mSelect.__init__\u001B[0;34m(self, *entities)\u001B[0m\n\u001B[1;32m   5129\u001B[0m \u001B[38;5;28;01mdef\u001B[39;00m \u001B[38;5;21m__init__\u001B[39m(\u001B[38;5;28mself\u001B[39m, \u001B[38;5;241m*\u001B[39mentities: _ColumnsClauseArgument[Any]):\n\u001B[1;32m   5130\u001B[0m \u001B[38;5;250m    \u001B[39m\u001B[38;5;124mr\u001B[39m\u001B[38;5;124;03m\"\"\"Construct a new :class:`_expression.Select`.\u001B[39;00m\n\u001B[1;32m   5131\u001B[0m \n\u001B[1;32m   5132\u001B[0m \u001B[38;5;124;03m    The public constructor for :class:`_expression.Select` is the\u001B[39;00m\n\u001B[1;32m   5133\u001B[0m \u001B[38;5;124;03m    :func:`_sql.select` function.\u001B[39;00m\n\u001B[1;32m   5134\u001B[0m \n\u001B[1;32m   5135\u001B[0m \u001B[38;5;124;03m    \"\"\"\u001B[39;00m\n\u001B[1;32m   5136\u001B[0m     \u001B[38;5;28mself\u001B[39m\u001B[38;5;241m.\u001B[39m_raw_columns \u001B[38;5;241m=\u001B[39m [\n\u001B[0;32m-> 5137\u001B[0m         \u001B[43mcoercions\u001B[49m\u001B[38;5;241;43m.\u001B[39;49m\u001B[43mexpect\u001B[49m\u001B[43m(\u001B[49m\n\u001B[1;32m   5138\u001B[0m \u001B[43m            \u001B[49m\u001B[43mroles\u001B[49m\u001B[38;5;241;43m.\u001B[39;49m\u001B[43mColumnsClauseRole\u001B[49m\u001B[43m,\u001B[49m\u001B[43m \u001B[49m\u001B[43ment\u001B[49m\u001B[43m,\u001B[49m\u001B[43m \u001B[49m\u001B[43mapply_propagate_attrs\u001B[49m\u001B[38;5;241;43m=\u001B[39;49m\u001B[38;5;28;43mself\u001B[39;49m\n\u001B[1;32m   5139\u001B[0m \u001B[43m        \u001B[49m\u001B[43m)\u001B[49m\n\u001B[1;32m   5140\u001B[0m         \u001B[38;5;28;01mfor\u001B[39;00m ent \u001B[38;5;129;01min\u001B[39;00m entities\n\u001B[1;32m   5141\u001B[0m     ]\n\u001B[1;32m   5143\u001B[0m     GenerativeSelect\u001B[38;5;241m.\u001B[39m\u001B[38;5;21m__init__\u001B[39m(\u001B[38;5;28mself\u001B[39m)\n",
      "File \u001B[0;32m~/Projects/projects/.venv/lib64/python3.12/site-packages/sqlalchemy/sql/coercions.py:413\u001B[0m, in \u001B[0;36mexpect\u001B[0;34m(role, element, apply_propagate_attrs, argname, post_inspect, disable_inspection, **kw)\u001B[0m\n\u001B[1;32m    410\u001B[0m                 impl\u001B[38;5;241m.\u001B[39m_raise_for_expected(original_element, argname)\n\u001B[1;32m    412\u001B[0m     \u001B[38;5;28;01mif\u001B[39;00m resolved \u001B[38;5;129;01mis\u001B[39;00m \u001B[38;5;28;01mNone\u001B[39;00m:\n\u001B[0;32m--> 413\u001B[0m         resolved \u001B[38;5;241m=\u001B[39m \u001B[43mimpl\u001B[49m\u001B[38;5;241;43m.\u001B[39;49m\u001B[43m_literal_coercion\u001B[49m\u001B[43m(\u001B[49m\n\u001B[1;32m    414\u001B[0m \u001B[43m            \u001B[49m\u001B[43melement\u001B[49m\u001B[43m,\u001B[49m\u001B[43m \u001B[49m\u001B[43margname\u001B[49m\u001B[38;5;241;43m=\u001B[39;49m\u001B[43margname\u001B[49m\u001B[43m,\u001B[49m\u001B[43m \u001B[49m\u001B[38;5;241;43m*\u001B[39;49m\u001B[38;5;241;43m*\u001B[39;49m\u001B[43mkw\u001B[49m\n\u001B[1;32m    415\u001B[0m \u001B[43m        \u001B[49m\u001B[43m)\u001B[49m\n\u001B[1;32m    416\u001B[0m \u001B[38;5;28;01melse\u001B[39;00m:\n\u001B[1;32m    417\u001B[0m     resolved \u001B[38;5;241m=\u001B[39m element\n",
      "File \u001B[0;32m~/Projects/projects/.venv/lib64/python3.12/site-packages/sqlalchemy/sql/coercions.py:651\u001B[0m, in \u001B[0;36m_CoerceLiterals._literal_coercion\u001B[0;34m(self, element, argname, **kw)\u001B[0m\n\u001B[1;32m    648\u001B[0m \u001B[38;5;28;01mif\u001B[39;00m \u001B[38;5;28mself\u001B[39m\u001B[38;5;241m.\u001B[39m_coerce_numerics \u001B[38;5;129;01mand\u001B[39;00m \u001B[38;5;28misinstance\u001B[39m(element, (numbers\u001B[38;5;241m.\u001B[39mNumber)):\n\u001B[1;32m    649\u001B[0m     \u001B[38;5;28;01mreturn\u001B[39;00m elements\u001B[38;5;241m.\u001B[39mColumnClause(\u001B[38;5;28mstr\u001B[39m(element), is_literal\u001B[38;5;241m=\u001B[39m\u001B[38;5;28;01mTrue\u001B[39;00m)\n\u001B[0;32m--> 651\u001B[0m \u001B[38;5;28;43mself\u001B[39;49m\u001B[38;5;241;43m.\u001B[39;49m\u001B[43m_raise_for_expected\u001B[49m\u001B[43m(\u001B[49m\u001B[43melement\u001B[49m\u001B[43m,\u001B[49m\u001B[43m \u001B[49m\u001B[43margname\u001B[49m\u001B[43m)\u001B[49m\n",
      "File \u001B[0;32m~/Projects/projects/.venv/lib64/python3.12/site-packages/sqlalchemy/sql/coercions.py:1139\u001B[0m, in \u001B[0;36mColumnsClauseImpl._raise_for_expected\u001B[0;34m(self, element, argname, resolved, advice, **kw)\u001B[0m\n\u001B[1;32m   1133\u001B[0m \u001B[38;5;28;01mif\u001B[39;00m \u001B[38;5;129;01mnot\u001B[39;00m advice \u001B[38;5;129;01mand\u001B[39;00m \u001B[38;5;28misinstance\u001B[39m(element, \u001B[38;5;28mlist\u001B[39m):\n\u001B[1;32m   1134\u001B[0m     advice \u001B[38;5;241m=\u001B[39m (\n\u001B[1;32m   1135\u001B[0m         \u001B[38;5;124mf\u001B[39m\u001B[38;5;124m\"\u001B[39m\u001B[38;5;124mDid you mean to say select(\u001B[39m\u001B[38;5;124m\"\u001B[39m\n\u001B[1;32m   1136\u001B[0m         \u001B[38;5;124mf\u001B[39m\u001B[38;5;124m\"\u001B[39m\u001B[38;5;132;01m{\u001B[39;00m\u001B[38;5;124m'\u001B[39m\u001B[38;5;124m, \u001B[39m\u001B[38;5;124m'\u001B[39m\u001B[38;5;241m.\u001B[39mjoin(\u001B[38;5;28mrepr\u001B[39m(e)\u001B[38;5;250m \u001B[39m\u001B[38;5;28;01mfor\u001B[39;00m\u001B[38;5;250m \u001B[39me\u001B[38;5;250m \u001B[39m\u001B[38;5;129;01min\u001B[39;00m\u001B[38;5;250m \u001B[39melement)\u001B[38;5;132;01m}\u001B[39;00m\u001B[38;5;124m)?\u001B[39m\u001B[38;5;124m\"\u001B[39m\n\u001B[1;32m   1137\u001B[0m     )\n\u001B[0;32m-> 1139\u001B[0m \u001B[38;5;28;01mreturn\u001B[39;00m \u001B[38;5;28;43msuper\u001B[39;49m\u001B[43m(\u001B[49m\u001B[43m)\u001B[49m\u001B[38;5;241;43m.\u001B[39;49m\u001B[43m_raise_for_expected\u001B[49m\u001B[43m(\u001B[49m\n\u001B[1;32m   1140\u001B[0m \u001B[43m    \u001B[49m\u001B[43melement\u001B[49m\u001B[43m,\u001B[49m\u001B[43m \u001B[49m\u001B[43margname\u001B[49m\u001B[38;5;241;43m=\u001B[39;49m\u001B[43margname\u001B[49m\u001B[43m,\u001B[49m\u001B[43m \u001B[49m\u001B[43mresolved\u001B[49m\u001B[38;5;241;43m=\u001B[39;49m\u001B[43mresolved\u001B[49m\u001B[43m,\u001B[49m\u001B[43m \u001B[49m\u001B[43madvice\u001B[49m\u001B[38;5;241;43m=\u001B[39;49m\u001B[43madvice\u001B[49m\u001B[43m,\u001B[49m\u001B[43m \u001B[49m\u001B[38;5;241;43m*\u001B[39;49m\u001B[38;5;241;43m*\u001B[39;49m\u001B[43mkw\u001B[49m\n\u001B[1;32m   1141\u001B[0m \u001B[43m\u001B[49m\u001B[43m)\u001B[49m\n",
      "File \u001B[0;32m~/Projects/projects/.venv/lib64/python3.12/site-packages/sqlalchemy/sql/coercions.py:710\u001B[0m, in \u001B[0;36m_SelectIsNotFrom._raise_for_expected\u001B[0;34m(self, element, argname, resolved, advice, code, err, **kw)\u001B[0m\n\u001B[1;32m    707\u001B[0m \u001B[38;5;28;01melse\u001B[39;00m:\n\u001B[1;32m    708\u001B[0m     code \u001B[38;5;241m=\u001B[39m \u001B[38;5;28;01mNone\u001B[39;00m\n\u001B[0;32m--> 710\u001B[0m \u001B[38;5;28;43msuper\u001B[39;49m\u001B[43m(\u001B[49m\u001B[43m)\u001B[49m\u001B[38;5;241;43m.\u001B[39;49m\u001B[43m_raise_for_expected\u001B[49m\u001B[43m(\u001B[49m\n\u001B[1;32m    711\u001B[0m \u001B[43m    \u001B[49m\u001B[43melement\u001B[49m\u001B[43m,\u001B[49m\n\u001B[1;32m    712\u001B[0m \u001B[43m    \u001B[49m\u001B[43margname\u001B[49m\u001B[38;5;241;43m=\u001B[39;49m\u001B[43margname\u001B[49m\u001B[43m,\u001B[49m\n\u001B[1;32m    713\u001B[0m \u001B[43m    \u001B[49m\u001B[43mresolved\u001B[49m\u001B[38;5;241;43m=\u001B[39;49m\u001B[43mresolved\u001B[49m\u001B[43m,\u001B[49m\n\u001B[1;32m    714\u001B[0m \u001B[43m    \u001B[49m\u001B[43madvice\u001B[49m\u001B[38;5;241;43m=\u001B[39;49m\u001B[43madvice\u001B[49m\u001B[43m,\u001B[49m\n\u001B[1;32m    715\u001B[0m \u001B[43m    \u001B[49m\u001B[43mcode\u001B[49m\u001B[38;5;241;43m=\u001B[39;49m\u001B[43mcode\u001B[49m\u001B[43m,\u001B[49m\n\u001B[1;32m    716\u001B[0m \u001B[43m    \u001B[49m\u001B[43merr\u001B[49m\u001B[38;5;241;43m=\u001B[39;49m\u001B[43merr\u001B[49m\u001B[43m,\u001B[49m\n\u001B[1;32m    717\u001B[0m \u001B[43m    \u001B[49m\u001B[38;5;241;43m*\u001B[39;49m\u001B[38;5;241;43m*\u001B[39;49m\u001B[43mkw\u001B[49m\u001B[43m,\u001B[49m\n\u001B[1;32m    718\u001B[0m \u001B[43m\u001B[49m\u001B[43m)\u001B[49m\n\u001B[1;32m    719\u001B[0m \u001B[38;5;66;03m# never reached\u001B[39;00m\n\u001B[1;32m    720\u001B[0m \u001B[38;5;28;01massert\u001B[39;00m \u001B[38;5;28;01mFalse\u001B[39;00m\n",
      "File \u001B[0;32m~/Projects/projects/.venv/lib64/python3.12/site-packages/sqlalchemy/sql/coercions.py:535\u001B[0m, in \u001B[0;36mRoleImpl._raise_for_expected\u001B[0;34m(self, element, argname, resolved, advice, code, err, **kw)\u001B[0m\n\u001B[1;32m    532\u001B[0m \u001B[38;5;28;01mif\u001B[39;00m advice:\n\u001B[1;32m    533\u001B[0m     msg \u001B[38;5;241m+\u001B[39m\u001B[38;5;241m=\u001B[39m \u001B[38;5;124m\"\u001B[39m\u001B[38;5;124m \u001B[39m\u001B[38;5;124m\"\u001B[39m \u001B[38;5;241m+\u001B[39m advice\n\u001B[0;32m--> 535\u001B[0m \u001B[38;5;28;01mraise\u001B[39;00m exc\u001B[38;5;241m.\u001B[39mArgumentError(msg, code\u001B[38;5;241m=\u001B[39mcode) \u001B[38;5;28;01mfrom\u001B[39;00m \u001B[38;5;21;01merr\u001B[39;00m\n",
      "\u001B[0;31mArgumentError\u001B[0m: Column expression, FROM clause, or other columns clause element expected, got [Table('queries', MetaData(), Column('id', Integer(), table=<queries>, primary_key=True, nullable=False), Column('keywords', String(length=400), table=<queries>, nullable=False), Column('timestamp', DateTime(), table=<queries>, default=CallableColumnDefault(<function datetime.now at 0x7fdfe9723b00>)), schema=None)]. Did you mean to say select(Table('queries', MetaData(), Column('id', Integer(), table=<queries>, primary_key=True, nullable=False), Column('keywords', String(length=400), table=<queries>, nullable=False), Column('timestamp', DateTime(), table=<queries>, default=CallableColumnDefault(<function datetime.now at 0x7fdfe9723b00>)), schema=None))?"
     ]
    }
   ],
   "source": [
    "select_stmt = select([queries]).where(queries.c.keywords.like('p%'))\n",
    "for row in db_conn.execute(select_stmt):\n",
    "    print(row)"
   ]
  },
  {
   "cell_type": "markdown",
   "metadata": {},
   "source": [
    "## ORM\n",
    "You can use their ORM library to handle the translation into full-fledged python objects.  This can help you build the Model for you [MVC](https://en.wikipedia.org/wiki/Model–view–controller) solution."
   ]
  },
  {
   "cell_type": "code",
   "execution_count": 27,
   "metadata": {
    "ExecuteTime": {
     "end_time": "2023-11-24T23:58:25.448808690Z",
     "start_time": "2023-11-24T23:58:25.235872187Z"
    }
   },
   "outputs": [
    {
     "name": "stderr",
     "output_type": "stream",
     "text": [
      "/tmp/ipykernel_73671/3009916295.py:5: MovedIn20Warning: The ``declarative_base()`` function is now available as sqlalchemy.orm.declarative_base(). (deprecated since: 2.0) (Background on SQLAlchemy 2.0 at: https://sqlalche.me/e/b8d9)\n",
      "  Base = declarative_base()\n"
     ]
    }
   ],
   "source": [
    "import datetime\n",
    "from sqlalchemy import *\n",
    "from sqlalchemy.ext.declarative import declarative_base\n",
    "from sqlalchemy.orm import sessionmaker\n",
    "Base = declarative_base()"
   ]
  },
  {
   "cell_type": "markdown",
   "metadata": {},
   "source": [
    "### Creating a class mapping\n",
    "Read more about [creating a mapping](http://docs.sqlalchemy.org/en/rel_1_0/orm/tutorial.html#declare-a-mapping)."
   ]
  },
  {
   "cell_type": "code",
   "execution_count": 28,
   "metadata": {
    "ExecuteTime": {
     "end_time": "2023-11-24T23:58:35.637817015Z",
     "start_time": "2023-11-24T23:58:35.614707172Z"
    }
   },
   "outputs": [
    {
     "data": {
      "text/plain": "Table('queries', MetaData(), Column('id', Integer(), table=<queries>, primary_key=True, nullable=False), Column('keywords', String(length=400), table=<queries>), Column('timestamp', DateTime(), table=<queries>, default=CallableColumnDefault(<function datetime.now at 0x7fdfe81b89a0>)), schema=None)"
     },
     "execution_count": 28,
     "metadata": {},
     "output_type": "execute_result"
    }
   ],
   "source": [
    "class Query(Base):\n",
    "    __tablename__ = 'queries'\n",
    "    id = Column(Integer, primary_key=True)\n",
    "    keywords = Column(String(400))\n",
    "    timestamp = Column(DateTime,default=datetime.datetime.now)\n",
    "    def __repr__(self):\n",
    "        return \"<Query(keywords='%s')>\" % (self.keywords)\n",
    "Query.__table__"
   ]
  },
  {
   "cell_type": "markdown",
   "metadata": {},
   "source": [
    "### Creating a connection and session\n",
    "Read more about [creating this stuff](http://docs.sqlalchemy.org/en/rel_1_0/orm/tutorial.html#creating-a-session)."
   ]
  },
  {
   "cell_type": "code",
   "execution_count": 29,
   "metadata": {
    "collapsed": true,
    "ExecuteTime": {
     "end_time": "2023-11-24T23:58:39.032751130Z",
     "start_time": "2023-11-24T23:58:39.021030630Z"
    }
   },
   "outputs": [],
   "source": [
    "engine = create_engine('sqlite:///:memory:') # just save the db in memory for now (ie. not on disk)\n",
    "Base.metadata.create_all(engine)\n",
    "Session = sessionmaker(bind=engine)\n",
    "my_session = Session()"
   ]
  },
  {
   "cell_type": "markdown",
   "metadata": {},
   "source": [
    "### Inserting Data\n",
    "Read more about [inserting data with an ORM](http://docs.sqlalchemy.org/en/rel_1_0/orm/tutorial.html#adding-new-objects)."
   ]
  },
  {
   "cell_type": "code",
   "execution_count": 30,
   "metadata": {
    "ExecuteTime": {
     "end_time": "2023-11-24T23:58:42.516760423Z",
     "start_time": "2023-11-24T23:58:42.503908367Z"
    }
   },
   "outputs": [
    {
     "data": {
      "text/plain": "'iguana'"
     },
     "execution_count": 30,
     "metadata": {},
     "output_type": "execute_result"
    }
   ],
   "source": [
    "query = Query(keywords=\"iguana\")\n",
    "query.keywords"
   ]
  },
  {
   "cell_type": "code",
   "execution_count": 31,
   "metadata": {
    "ExecuteTime": {
     "end_time": "2023-11-24T23:58:45.181002525Z",
     "start_time": "2023-11-24T23:58:45.151897222Z"
    }
   },
   "outputs": [
    {
     "data": {
      "text/plain": "1"
     },
     "execution_count": 31,
     "metadata": {},
     "output_type": "execute_result"
    }
   ],
   "source": [
    "my_session.add(query)\n",
    "my_session.commit()\n",
    "query.id"
   ]
  },
  {
   "cell_type": "code",
   "execution_count": 32,
   "metadata": {
    "ExecuteTime": {
     "end_time": "2023-11-24T23:58:47.226088978Z",
     "start_time": "2023-11-24T23:58:47.219452489Z"
    }
   },
   "outputs": [
    {
     "data": {
      "text/plain": "<Query(keywords='iguana')>"
     },
     "execution_count": 32,
     "metadata": {},
     "output_type": "execute_result"
    }
   ],
   "source": [
    "query"
   ]
  },
  {
   "cell_type": "markdown",
   "metadata": {},
   "source": [
    "### Retrieving Data\n",
    "Read more about [retrieving data from the db](http://docs.sqlalchemy.org/en/rel_1_0/orm/tutorial.html#querying) via an ORM class."
   ]
  },
  {
   "cell_type": "code",
   "execution_count": 34,
   "metadata": {
    "ExecuteTime": {
     "end_time": "2023-11-24T23:58:57.849189536Z",
     "start_time": "2023-11-24T23:58:57.783627703Z"
    }
   },
   "outputs": [
    {
     "name": "stdout",
     "output_type": "stream",
     "text": [
      "<Query(keywords='iguana')>\n"
     ]
    }
   ],
   "source": [
    "for q in my_session.query(Query).order_by(Query.timestamp):\n",
    "    print(q)"
   ]
  },
  {
   "cell_type": "code",
   "execution_count": 35,
   "metadata": {
    "collapsed": true,
    "ExecuteTime": {
     "end_time": "2023-11-24T23:59:00.513901094Z",
     "start_time": "2023-11-24T23:59:00.501911802Z"
    }
   },
   "outputs": [],
   "source": [
    "query1 = Query(keywords=\"robot\")\n",
    "query2 = Query(keywords=\"puppy\")\n",
    "my_session.add_all([query1,query2])\n",
    "my_session.commit()"
   ]
  },
  {
   "cell_type": "code",
   "execution_count": 36,
   "metadata": {
    "ExecuteTime": {
     "end_time": "2023-11-24T23:59:07.175867409Z",
     "start_time": "2023-11-24T23:59:07.142706840Z"
    }
   },
   "outputs": [
    {
     "name": "stdout",
     "output_type": "stream",
     "text": [
      "<Query(keywords='iguana')>\n",
      "<Query(keywords='robot')>\n",
      "<Query(keywords='puppy')>\n"
     ]
    }
   ],
   "source": [
    "for q in my_session.query(Query).order_by(Query.timestamp):\n",
    "    print(q)"
   ]
  },
  {
   "cell_type": "code",
   "execution_count": 37,
   "metadata": {
    "ExecuteTime": {
     "end_time": "2023-11-24T23:59:14.649164712Z",
     "start_time": "2023-11-24T23:59:14.633029634Z"
    }
   },
   "outputs": [
    {
     "name": "stdout",
     "output_type": "stream",
     "text": [
      "<Query(keywords='robot')>\n"
     ]
    }
   ],
   "source": [
    "for q in my_session.query(Query).filter(Query.keywords.like('r%')):\n",
    "    print(  q)"
   ]
  },
  {
   "cell_type": "code",
   "execution_count": null,
   "metadata": {
    "collapsed": true,
    "ExecuteTime": {
     "start_time": "2023-11-24T00:19:55.254668582Z"
    }
   },
   "outputs": [],
   "source": []
  }
 ],
 "metadata": {
  "kernelspec": {
   "display_name": "Python 3",
   "language": "python",
   "name": "python3"
  },
  "language_info": {
   "codemirror_mode": {
    "name": "ipython",
    "version": 3
   },
   "file_extension": ".py",
   "mimetype": "text/x-python",
   "name": "python",
   "nbconvert_exporter": "python",
   "pygments_lexer": "ipython3",
   "version": "3.5.3"
  }
 },
 "nbformat": 4,
 "nbformat_minor": 1
}
